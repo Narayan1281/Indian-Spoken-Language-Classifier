{
  "cells": [
    {
      "cell_type": "code",
      "execution_count": 1,
      "id": "23bbf913",
      "metadata": {
        "colab": {
          "base_uri": "https://localhost:8080/"
        },
        "id": "23bbf913",
        "outputId": "ee485a9e-28b7-4dbe-d199-b4cf77be6138"
      },
      "outputs": [
        {
          "output_type": "stream",
          "name": "stdout",
          "text": [
            "Mounted at /content/drive\n"
          ]
        }
      ],
      "source": [
        "from google.colab import drive\n",
        "drive.mount('/content/drive')"
      ]
    },
    {
      "cell_type": "code",
      "source": [
        "import numpy as np\n",
        "import time\n",
        "import pandas as pd\n",
        "import matplotlib.pyplot as plt\n",
        "import os\n",
        "import copy\n",
        "from sklearn.mixture import GaussianMixture\n",
        "from sklearn.metrics import accuracy_score, confusion_matrix"
      ],
      "metadata": {
        "id": "8gCr0rCH8h_z"
      },
      "id": "8gCr0rCH8h_z",
      "execution_count": 2,
      "outputs": []
    },
    {
      "cell_type": "code",
      "source": [
        "source_path = '/content/drive/My Drive/Pattern Recognition/project/'\n",
        "os.chdir(source_path)\n",
        "os.listdir()"
      ],
      "metadata": {
        "id": "1cEZMNzPojUH",
        "colab": {
          "base_uri": "https://localhost:8080/"
        },
        "outputId": "47fb0068-73aa-4e0a-e2c0-20c5a24c4789"
      },
      "id": "1cEZMNzPojUH",
      "execution_count": 14,
      "outputs": [
        {
          "output_type": "execute_result",
          "data": {
            "text/plain": [
              "['pb_train', 'pb_test', 'yt_test', 'abc2.csv']"
            ]
          },
          "metadata": {},
          "execution_count": 14
        }
      ]
    },
    {
      "cell_type": "code",
      "execution_count": 15,
      "id": "f4fa066a",
      "metadata": {
        "id": "f4fa066a"
      },
      "outputs": [],
      "source": [
        "pb_train_path = source_path + 'pb_train/'\n",
        "pb_test_path = source_path + 'pb_test/'\n",
        "yt_test_path = source_path + 'yt_test/'\n",
        "# Get all the training/test csv file names\n",
        "language_file_names = [f for f in os.listdir(pb_train_path) if f.endswith('.csv')]"
      ]
    },
    {
      "cell_type": "code",
      "execution_count": 18,
      "id": "02815fc2",
      "metadata": {
        "colab": {
          "base_uri": "https://localhost:8080/"
        },
        "id": "02815fc2",
        "outputId": "684bf399-0302-4d49-b80f-032961b3643f"
      },
      "outputs": [
        {
          "output_type": "stream",
          "name": "stdout",
          "text": [
            "['odi_combined.csv', 'kan_combined.csv', 'mar_combined.csv', 'hin_combined.csv', 'asm_combined.csv', 'mal_combined.csv', 'pun_combined.csv', 'tam_combined.csv', 'tel_combined.csv', 'eng_combined.csv', 'ben_combined.csv', 'guj_combined.csv']\n"
          ]
        }
      ],
      "source": [
        "print(language_file_names)"
      ]
    },
    {
      "cell_type": "code",
      "execution_count": 17,
      "id": "7d259d84",
      "metadata": {
        "id": "7d259d84",
        "colab": {
          "base_uri": "https://localhost:8080/"
        },
        "outputId": "699e47f0-b8a0-4f12-dcd8-7156794cb984"
      },
      "outputs": [
        {
          "output_type": "stream",
          "name": "stdout",
          "text": [
            "['odi', 'kan', 'mar', 'hin', 'asm', 'mal', 'pun', 'tam', 'tel', 'eng', 'ben', 'guj']\n"
          ]
        }
      ],
      "source": [
        "languages = [f[:3] for f in language_file_names]\n",
        "print(languages)"
      ]
    },
    {
      "cell_type": "code",
      "execution_count": 19,
      "id": "28914484",
      "metadata": {
        "id": "28914484"
      },
      "outputs": [],
      "source": [
        "os.chdir(pb_train_path)\n",
        "train_df_list = [pd.read_csv(f,header=None,encoding='UTF-16') for f in language_file_names] # list of dataframes of each language\n",
        "os.chdir(source_path)"
      ]
    },
    {
      "cell_type": "code",
      "execution_count": 20,
      "id": "8071242a",
      "metadata": {
        "id": "8071242a",
        "outputId": "ee5c44d7-89cf-4b64-a8de-750576a4b3ee",
        "colab": {
          "base_uri": "https://localhost:8080/"
        }
      },
      "outputs": [
        {
          "output_type": "stream",
          "name": "stdout",
          "text": [
            "1036801\n"
          ]
        }
      ],
      "source": [
        "total_len = 0\n",
        "for df in train_df_list:\n",
        "    total_len += len(df)\n",
        "print(total_len)"
      ]
    },
    {
      "cell_type": "code",
      "execution_count": 21,
      "id": "d166b1d3",
      "metadata": {
        "id": "d166b1d3"
      },
      "outputs": [],
      "source": [
        "## Making list pb_test dataframes after reading from csv\n",
        "# The labels to these dataframes will be in the order they appear in language_file_names"
      ]
    },
    {
      "cell_type": "code",
      "execution_count": 22,
      "id": "8b16cd43",
      "metadata": {
        "id": "8b16cd43"
      },
      "outputs": [],
      "source": [
        "os.chdir(pb_test_path)\n",
        "pb_test_df_list = [pd.read_csv(f,header=None,encoding='UTF-16') for f in language_file_names] # list of dataframes of each language\n",
        "os.chdir(source_path)"
      ]
    },
    {
      "cell_type": "code",
      "execution_count": 23,
      "id": "c2d26495",
      "metadata": {
        "id": "c2d26495"
      },
      "outputs": [],
      "source": [
        "os.chdir(yt_test_path)\n",
        "yt_test_df_list = [pd.read_csv(f,header=None,encoding='UTF-16') for f in language_file_names] # list of dataframes of each language\n",
        "os.chdir(source_path)"
      ]
    },
    {
      "cell_type": "code",
      "execution_count": 24,
      "id": "c9934ed2",
      "metadata": {
        "id": "c9934ed2"
      },
      "outputs": [],
      "source": [
        "total_samples = 0\n",
        "for i in range(len(train_df_list)):\n",
        "    total_samples += len(train_df_list[i])\n",
        "\n",
        "priors = [len(train_df_list[i])/total_samples for i in range(len(train_df_list))]\n",
        "log_priors = [np.log(prob) for prob in priors]"
      ]
    },
    {
      "cell_type": "code",
      "execution_count": 25,
      "id": "f8be8005",
      "metadata": {
        "id": "f8be8005"
      },
      "outputs": [],
      "source": [
        "# y_true contains the correct label for all the tuples in the original combined test dataset\n",
        "# pb_test\n",
        "\n"
      ]
    },
    {
      "cell_type": "code",
      "execution_count": 26,
      "id": "74aa4430",
      "metadata": {
        "id": "74aa4430"
      },
      "outputs": [],
      "source": [
        "def GMM_prediction(q,test_df_list,cov_type):\n",
        "    '''This Function takes $q$-> number of cluster and $test_df_list$ :-> list of test data frames as input'''\n",
        "    # Model Buiding\n",
        "    gmm_lists = [GaussianMixture(n_components=q, covariance_type=cov_type,random_state=42,init_params='k-means++').fit(train_df_list[i].values) for i in range(len(train_df_list))]\n",
        "    \n",
        "    y_test = [] # true labels\n",
        "    for i in range(len(test_df_list)):\n",
        "        for x in range(len(test_df_list[i])):\n",
        "            y_test.append(i)\n",
        "    #\n",
        "    \n",
        "    ## Before calculating log probabilities we need to combine all the data_frames on top of each other in one csv file\n",
        "    #     concatenating df1 and df2 along rows\n",
        "    #     vertical_concat = pd.concat([df1, df2], axis=0)\n",
        "    test = pd.concat(test_df_list, axis=0)\n",
        "    \n",
        "    ## weightage log likelihood using gmm.score_samples(x)\n",
        "    log_lists = [gmm.score_samples(test.values) for gmm in gmm_lists]\n",
        "    \n",
        "    ## Now predicting output based on build model\n",
        "    y_pred = [] #predicted labels based on our model\n",
        "    for i in range(len(test)):\n",
        "        # we need to find argmax such that log probability is maximum\n",
        "        index_of_log_max = 0\n",
        "        for j in range(len(log_lists)):\n",
        "            if(log_lists[j][i] + log_priors[j] > log_lists[index_of_log_max][i] + log_priors[index_of_log_max]):\n",
        "                index_of_log_max = j\n",
        "        y_pred.append(index_of_log_max)\n",
        "    \n",
        "    return y_test, y_pred\n",
        "    "
      ]
    },
    {
      "cell_type": "code",
      "execution_count": 28,
      "id": "5ee3521e",
      "metadata": {
        "id": "5ee3521e",
        "colab": {
          "base_uri": "https://localhost:8080/",
          "height": 375
        },
        "outputId": "1029741b-419a-407d-8cb2-0b8c6ac08be6"
      },
      "outputs": [
        {
          "output_type": "stream",
          "name": "stdout",
          "text": [
            "Accuracy for num_clustor, 2 is 33.2326452768761\n",
            "Accuracy for num_clustor, 3 is 34.65377243086525\n",
            "Accuracy for num_clustor, 4 is 35.81251986630578\n",
            "Accuracy for num_clustor, 5 is 37.22343694314143\n"
          ]
        },
        {
          "output_type": "error",
          "ename": "KeyboardInterrupt",
          "evalue": "ignored",
          "traceback": [
            "\u001b[0;31m---------------------------------------------------------------------------\u001b[0m",
            "\u001b[0;31mKeyboardInterrupt\u001b[0m                         Traceback (most recent call last)",
            "\u001b[0;32m<ipython-input-28-797efe02733f>\u001b[0m in \u001b[0;36m<cell line: 5>\u001b[0;34m()\u001b[0m\n\u001b[1;32m      5\u001b[0m \u001b[0;32mfor\u001b[0m \u001b[0mq\u001b[0m \u001b[0;32min\u001b[0m \u001b[0mno_of_clusters\u001b[0m\u001b[0;34m:\u001b[0m\u001b[0;34m\u001b[0m\u001b[0;34m\u001b[0m\u001b[0m\n\u001b[1;32m      6\u001b[0m     \u001b[0mstart\u001b[0m \u001b[0;34m=\u001b[0m \u001b[0mtime\u001b[0m\u001b[0;34m.\u001b[0m\u001b[0mperf_counter\u001b[0m\u001b[0;34m(\u001b[0m\u001b[0;34m)\u001b[0m\u001b[0;34m\u001b[0m\u001b[0;34m\u001b[0m\u001b[0m\n\u001b[0;32m----> 7\u001b[0;31m     \u001b[0mtest_label\u001b[0m\u001b[0;34m,\u001b[0m \u001b[0mpred_label\u001b[0m \u001b[0;34m=\u001b[0m \u001b[0mGMM_prediction\u001b[0m\u001b[0;34m(\u001b[0m\u001b[0mq\u001b[0m\u001b[0;34m,\u001b[0m\u001b[0mpb_test_df_list\u001b[0m\u001b[0;34m,\u001b[0m\u001b[0;34m'diag'\u001b[0m\u001b[0;34m)\u001b[0m\u001b[0;34m\u001b[0m\u001b[0;34m\u001b[0m\u001b[0m\n\u001b[0m\u001b[1;32m      8\u001b[0m     \u001b[0macc\u001b[0m \u001b[0;34m=\u001b[0m \u001b[0;36m100\u001b[0m\u001b[0;34m*\u001b[0m\u001b[0maccuracy_score\u001b[0m\u001b[0;34m(\u001b[0m\u001b[0mtest_label\u001b[0m\u001b[0;34m,\u001b[0m \u001b[0mpred_label\u001b[0m\u001b[0;34m)\u001b[0m\u001b[0;34m\u001b[0m\u001b[0;34m\u001b[0m\u001b[0m\n\u001b[1;32m      9\u001b[0m     \u001b[0mend\u001b[0m \u001b[0;34m=\u001b[0m \u001b[0mtime\u001b[0m\u001b[0;34m.\u001b[0m\u001b[0mperf_counter\u001b[0m\u001b[0;34m(\u001b[0m\u001b[0;34m)\u001b[0m\u001b[0;34m\u001b[0m\u001b[0;34m\u001b[0m\u001b[0m\n",
            "\u001b[0;32m<ipython-input-26-38448e754134>\u001b[0m in \u001b[0;36mGMM_prediction\u001b[0;34m(q, test_df_list, cov_type)\u001b[0m\n\u001b[1;32m      2\u001b[0m     \u001b[0;34m'''This Function takes $q$-> number of cluster and $test_df_list$ :-> list of test data frames as input'''\u001b[0m\u001b[0;34m\u001b[0m\u001b[0;34m\u001b[0m\u001b[0m\n\u001b[1;32m      3\u001b[0m     \u001b[0;31m# Model Buiding\u001b[0m\u001b[0;34m\u001b[0m\u001b[0;34m\u001b[0m\u001b[0m\n\u001b[0;32m----> 4\u001b[0;31m     \u001b[0mgmm_lists\u001b[0m \u001b[0;34m=\u001b[0m \u001b[0;34m[\u001b[0m\u001b[0mGaussianMixture\u001b[0m\u001b[0;34m(\u001b[0m\u001b[0mn_components\u001b[0m\u001b[0;34m=\u001b[0m\u001b[0mq\u001b[0m\u001b[0;34m,\u001b[0m \u001b[0mcovariance_type\u001b[0m\u001b[0;34m=\u001b[0m\u001b[0mcov_type\u001b[0m\u001b[0;34m,\u001b[0m\u001b[0mrandom_state\u001b[0m\u001b[0;34m=\u001b[0m\u001b[0;36m42\u001b[0m\u001b[0;34m,\u001b[0m\u001b[0minit_params\u001b[0m\u001b[0;34m=\u001b[0m\u001b[0;34m'k-means++'\u001b[0m\u001b[0;34m)\u001b[0m\u001b[0;34m.\u001b[0m\u001b[0mfit\u001b[0m\u001b[0;34m(\u001b[0m\u001b[0mtrain_df_list\u001b[0m\u001b[0;34m[\u001b[0m\u001b[0mi\u001b[0m\u001b[0;34m]\u001b[0m\u001b[0;34m.\u001b[0m\u001b[0mvalues\u001b[0m\u001b[0;34m)\u001b[0m \u001b[0;32mfor\u001b[0m \u001b[0mi\u001b[0m \u001b[0;32min\u001b[0m \u001b[0mrange\u001b[0m\u001b[0;34m(\u001b[0m\u001b[0mlen\u001b[0m\u001b[0;34m(\u001b[0m\u001b[0mtrain_df_list\u001b[0m\u001b[0;34m)\u001b[0m\u001b[0;34m)\u001b[0m\u001b[0;34m]\u001b[0m\u001b[0;34m\u001b[0m\u001b[0;34m\u001b[0m\u001b[0m\n\u001b[0m\u001b[1;32m      5\u001b[0m \u001b[0;34m\u001b[0m\u001b[0m\n\u001b[1;32m      6\u001b[0m     \u001b[0my_test\u001b[0m \u001b[0;34m=\u001b[0m \u001b[0;34m[\u001b[0m\u001b[0;34m]\u001b[0m \u001b[0;31m# true labels\u001b[0m\u001b[0;34m\u001b[0m\u001b[0;34m\u001b[0m\u001b[0m\n",
            "\u001b[0;32m<ipython-input-26-38448e754134>\u001b[0m in \u001b[0;36m<listcomp>\u001b[0;34m(.0)\u001b[0m\n\u001b[1;32m      2\u001b[0m     \u001b[0;34m'''This Function takes $q$-> number of cluster and $test_df_list$ :-> list of test data frames as input'''\u001b[0m\u001b[0;34m\u001b[0m\u001b[0;34m\u001b[0m\u001b[0m\n\u001b[1;32m      3\u001b[0m     \u001b[0;31m# Model Buiding\u001b[0m\u001b[0;34m\u001b[0m\u001b[0;34m\u001b[0m\u001b[0m\n\u001b[0;32m----> 4\u001b[0;31m     \u001b[0mgmm_lists\u001b[0m \u001b[0;34m=\u001b[0m \u001b[0;34m[\u001b[0m\u001b[0mGaussianMixture\u001b[0m\u001b[0;34m(\u001b[0m\u001b[0mn_components\u001b[0m\u001b[0;34m=\u001b[0m\u001b[0mq\u001b[0m\u001b[0;34m,\u001b[0m \u001b[0mcovariance_type\u001b[0m\u001b[0;34m=\u001b[0m\u001b[0mcov_type\u001b[0m\u001b[0;34m,\u001b[0m\u001b[0mrandom_state\u001b[0m\u001b[0;34m=\u001b[0m\u001b[0;36m42\u001b[0m\u001b[0;34m,\u001b[0m\u001b[0minit_params\u001b[0m\u001b[0;34m=\u001b[0m\u001b[0;34m'k-means++'\u001b[0m\u001b[0;34m)\u001b[0m\u001b[0;34m.\u001b[0m\u001b[0mfit\u001b[0m\u001b[0;34m(\u001b[0m\u001b[0mtrain_df_list\u001b[0m\u001b[0;34m[\u001b[0m\u001b[0mi\u001b[0m\u001b[0;34m]\u001b[0m\u001b[0;34m.\u001b[0m\u001b[0mvalues\u001b[0m\u001b[0;34m)\u001b[0m \u001b[0;32mfor\u001b[0m \u001b[0mi\u001b[0m \u001b[0;32min\u001b[0m \u001b[0mrange\u001b[0m\u001b[0;34m(\u001b[0m\u001b[0mlen\u001b[0m\u001b[0;34m(\u001b[0m\u001b[0mtrain_df_list\u001b[0m\u001b[0;34m)\u001b[0m\u001b[0;34m)\u001b[0m\u001b[0;34m]\u001b[0m\u001b[0;34m\u001b[0m\u001b[0;34m\u001b[0m\u001b[0m\n\u001b[0m\u001b[1;32m      5\u001b[0m \u001b[0;34m\u001b[0m\u001b[0m\n\u001b[1;32m      6\u001b[0m     \u001b[0my_test\u001b[0m \u001b[0;34m=\u001b[0m \u001b[0;34m[\u001b[0m\u001b[0;34m]\u001b[0m \u001b[0;31m# true labels\u001b[0m\u001b[0;34m\u001b[0m\u001b[0;34m\u001b[0m\u001b[0m\n",
            "\u001b[0;32m/usr/local/lib/python3.10/dist-packages/sklearn/mixture/_base.py\u001b[0m in \u001b[0;36mfit\u001b[0;34m(self, X, y)\u001b[0m\n\u001b[1;32m    184\u001b[0m         \"\"\"\n\u001b[1;32m    185\u001b[0m         \u001b[0;31m# parameters are validated in fit_predict\u001b[0m\u001b[0;34m\u001b[0m\u001b[0;34m\u001b[0m\u001b[0m\n\u001b[0;32m--> 186\u001b[0;31m         \u001b[0mself\u001b[0m\u001b[0;34m.\u001b[0m\u001b[0mfit_predict\u001b[0m\u001b[0;34m(\u001b[0m\u001b[0mX\u001b[0m\u001b[0;34m,\u001b[0m \u001b[0my\u001b[0m\u001b[0;34m)\u001b[0m\u001b[0;34m\u001b[0m\u001b[0;34m\u001b[0m\u001b[0m\n\u001b[0m\u001b[1;32m    187\u001b[0m         \u001b[0;32mreturn\u001b[0m \u001b[0mself\u001b[0m\u001b[0;34m\u001b[0m\u001b[0;34m\u001b[0m\u001b[0m\n\u001b[1;32m    188\u001b[0m \u001b[0;34m\u001b[0m\u001b[0m\n",
            "\u001b[0;32m/usr/local/lib/python3.10/dist-packages/sklearn/mixture/_base.py\u001b[0m in \u001b[0;36mfit_predict\u001b[0;34m(self, X, y)\u001b[0m\n\u001b[1;32m    251\u001b[0m \u001b[0;34m\u001b[0m\u001b[0m\n\u001b[1;32m    252\u001b[0m                     \u001b[0mlog_prob_norm\u001b[0m\u001b[0;34m,\u001b[0m \u001b[0mlog_resp\u001b[0m \u001b[0;34m=\u001b[0m \u001b[0mself\u001b[0m\u001b[0;34m.\u001b[0m\u001b[0m_e_step\u001b[0m\u001b[0;34m(\u001b[0m\u001b[0mX\u001b[0m\u001b[0;34m)\u001b[0m\u001b[0;34m\u001b[0m\u001b[0;34m\u001b[0m\u001b[0m\n\u001b[0;32m--> 253\u001b[0;31m                     \u001b[0mself\u001b[0m\u001b[0;34m.\u001b[0m\u001b[0m_m_step\u001b[0m\u001b[0;34m(\u001b[0m\u001b[0mX\u001b[0m\u001b[0;34m,\u001b[0m \u001b[0mlog_resp\u001b[0m\u001b[0;34m)\u001b[0m\u001b[0;34m\u001b[0m\u001b[0;34m\u001b[0m\u001b[0m\n\u001b[0m\u001b[1;32m    254\u001b[0m                     \u001b[0mlower_bound\u001b[0m \u001b[0;34m=\u001b[0m \u001b[0mself\u001b[0m\u001b[0;34m.\u001b[0m\u001b[0m_compute_lower_bound\u001b[0m\u001b[0;34m(\u001b[0m\u001b[0mlog_resp\u001b[0m\u001b[0;34m,\u001b[0m \u001b[0mlog_prob_norm\u001b[0m\u001b[0;34m)\u001b[0m\u001b[0;34m\u001b[0m\u001b[0;34m\u001b[0m\u001b[0m\n\u001b[1;32m    255\u001b[0m \u001b[0;34m\u001b[0m\u001b[0m\n",
            "\u001b[0;32m/usr/local/lib/python3.10/dist-packages/sklearn/mixture/_gaussian_mixture.py\u001b[0m in \u001b[0;36m_m_step\u001b[0;34m(self, X, log_resp)\u001b[0m\n\u001b[1;32m    751\u001b[0m             \u001b[0mthe\u001b[0m \u001b[0mpoint\u001b[0m \u001b[0mof\u001b[0m \u001b[0meach\u001b[0m \u001b[0msample\u001b[0m \u001b[0;32min\u001b[0m \u001b[0mX\u001b[0m\u001b[0;34m.\u001b[0m\u001b[0;34m\u001b[0m\u001b[0;34m\u001b[0m\u001b[0m\n\u001b[1;32m    752\u001b[0m         \"\"\"\n\u001b[0;32m--> 753\u001b[0;31m         self.weights_, self.means_, self.covariances_ = _estimate_gaussian_parameters(\n\u001b[0m\u001b[1;32m    754\u001b[0m             \u001b[0mX\u001b[0m\u001b[0;34m,\u001b[0m \u001b[0mnp\u001b[0m\u001b[0;34m.\u001b[0m\u001b[0mexp\u001b[0m\u001b[0;34m(\u001b[0m\u001b[0mlog_resp\u001b[0m\u001b[0;34m)\u001b[0m\u001b[0;34m,\u001b[0m \u001b[0mself\u001b[0m\u001b[0;34m.\u001b[0m\u001b[0mreg_covar\u001b[0m\u001b[0;34m,\u001b[0m \u001b[0mself\u001b[0m\u001b[0;34m.\u001b[0m\u001b[0mcovariance_type\u001b[0m\u001b[0;34m\u001b[0m\u001b[0;34m\u001b[0m\u001b[0m\n\u001b[1;32m    755\u001b[0m         )\n",
            "\u001b[0;32m/usr/local/lib/python3.10/dist-packages/sklearn/mixture/_gaussian_mixture.py\u001b[0m in \u001b[0;36m_estimate_gaussian_parameters\u001b[0;34m(X, resp, reg_covar, covariance_type)\u001b[0m\n\u001b[1;32m    289\u001b[0m     \"\"\"\n\u001b[1;32m    290\u001b[0m     \u001b[0mnk\u001b[0m \u001b[0;34m=\u001b[0m \u001b[0mresp\u001b[0m\u001b[0;34m.\u001b[0m\u001b[0msum\u001b[0m\u001b[0;34m(\u001b[0m\u001b[0maxis\u001b[0m\u001b[0;34m=\u001b[0m\u001b[0;36m0\u001b[0m\u001b[0;34m)\u001b[0m \u001b[0;34m+\u001b[0m \u001b[0;36m10\u001b[0m \u001b[0;34m*\u001b[0m \u001b[0mnp\u001b[0m\u001b[0;34m.\u001b[0m\u001b[0mfinfo\u001b[0m\u001b[0;34m(\u001b[0m\u001b[0mresp\u001b[0m\u001b[0;34m.\u001b[0m\u001b[0mdtype\u001b[0m\u001b[0;34m)\u001b[0m\u001b[0;34m.\u001b[0m\u001b[0meps\u001b[0m\u001b[0;34m\u001b[0m\u001b[0;34m\u001b[0m\u001b[0m\n\u001b[0;32m--> 291\u001b[0;31m     \u001b[0mmeans\u001b[0m \u001b[0;34m=\u001b[0m \u001b[0mnp\u001b[0m\u001b[0;34m.\u001b[0m\u001b[0mdot\u001b[0m\u001b[0;34m(\u001b[0m\u001b[0mresp\u001b[0m\u001b[0;34m.\u001b[0m\u001b[0mT\u001b[0m\u001b[0;34m,\u001b[0m \u001b[0mX\u001b[0m\u001b[0;34m)\u001b[0m \u001b[0;34m/\u001b[0m \u001b[0mnk\u001b[0m\u001b[0;34m[\u001b[0m\u001b[0;34m:\u001b[0m\u001b[0;34m,\u001b[0m \u001b[0mnp\u001b[0m\u001b[0;34m.\u001b[0m\u001b[0mnewaxis\u001b[0m\u001b[0;34m]\u001b[0m\u001b[0;34m\u001b[0m\u001b[0;34m\u001b[0m\u001b[0m\n\u001b[0m\u001b[1;32m    292\u001b[0m     covariances = {\n\u001b[1;32m    293\u001b[0m         \u001b[0;34m\"full\"\u001b[0m\u001b[0;34m:\u001b[0m \u001b[0m_estimate_gaussian_covariances_full\u001b[0m\u001b[0;34m,\u001b[0m\u001b[0;34m\u001b[0m\u001b[0;34m\u001b[0m\u001b[0m\n",
            "\u001b[0;32m/usr/local/lib/python3.10/dist-packages/numpy/core/overrides.py\u001b[0m in \u001b[0;36mdot\u001b[0;34m(*args, **kwargs)\u001b[0m\n",
            "\u001b[0;31mKeyboardInterrupt\u001b[0m: "
          ]
        }
      ],
      "source": [
        "# calculating accuracy using diag covariance matrix\n",
        "prediction_accuracy_pb_test = []\n",
        "calculation_time = []\n",
        "no_of_clusters = [2,3,4,5,7,10,12,17]\n",
        "for q in no_of_clusters:\n",
        "    start = time.perf_counter()\n",
        "    test_label, pred_label = GMM_prediction(q,pb_test_df_list,'diag')\n",
        "    acc = 100*accuracy_score(test_label, pred_label)\n",
        "    end = time.perf_counter()\n",
        "    calculation_time.append(end-start)\n",
        "    prediction_accuracy_pb_test.append(acc)\n",
        "    print(f\"Accuracy for num_clustor, {q} is {acc}\")"
      ]
    },
    {
      "cell_type": "code",
      "execution_count": null,
      "id": "2a28e76d",
      "metadata": {
        "id": "2a28e76d"
      },
      "outputs": [],
      "source": [
        "num_clusters = [25,32,42,64]\n",
        "for q in num_clusters:\n",
        "    no_of_clusters.append(q)\n",
        "    start = time.perf_counter()\n",
        "    test_label, pred_label = GMM_prediction(q,pb_test_df_list,'diag')\n",
        "    acc = 100*accuracy_score(test_label, pred_label)\n",
        "    end = time.perf_counter()\n",
        "    calculation_time.append(end-start)\n",
        "    prediction_accuracy_pb_test.append(acc)\n",
        "    "
      ]
    },
    {
      "cell_type": "code",
      "execution_count": null,
      "id": "4c01b494",
      "metadata": {
        "id": "4c01b494",
        "outputId": "242180c8-51fc-4fb5-9536-318665873466"
      },
      "outputs": [
        {
          "data": {
            "text/plain": [
              "[33.2326452768761,\n",
              " 34.65377243086525,\n",
              " 35.81251986630578,\n",
              " 37.22343694314143,\n",
              " 37.93814234388695,\n",
              " 39.25543493965459,\n",
              " 39.34096841618586,\n",
              " 40.58582725705314,\n",
              " 41.888864273398895,\n",
              " 42.789662778489486,\n",
              " 43.55407006424643,\n",
              " 45.09598435739123]"
            ]
          },
          "execution_count": 39,
          "metadata": {},
          "output_type": "execute_result"
        }
      ],
      "source": [
        "prediction_accuracy_pb_test ## Prediction Accuracy for prasar bharti if cov_type = diagonal matrix"
      ]
    },
    {
      "cell_type": "code",
      "execution_count": null,
      "id": "8b10c169",
      "metadata": {
        "id": "8b10c169",
        "outputId": "38ea6d3f-9506-4bf5-c21e-a26aa0c56ee7"
      },
      "outputs": [
        {
          "data": {
            "text/plain": [
              "[21.608894264994888,\n",
              " 25.941884050000226,\n",
              " 35.55319803200837,\n",
              " 38.79373764300544,\n",
              " 46.7950093170075,\n",
              " 72.22252176600159,\n",
              " 87.00042982699233,\n",
              " 131.7664611069922,\n",
              " 163.28307435900206,\n",
              " 226.91201217500202,\n",
              " 253.2882874909992,\n",
              " 350.89977380400524]"
            ]
          },
          "execution_count": 33,
          "metadata": {},
          "output_type": "execute_result"
        }
      ],
      "source": [
        "calculation_time"
      ]
    },
    {
      "cell_type": "code",
      "execution_count": null,
      "id": "3f502040",
      "metadata": {
        "id": "3f502040"
      },
      "outputs": [],
      "source": [
        "# calculating accuracy using full covariance matrix\n",
        "prediction_accuracy_pb_test_f = []\n",
        "calculation_time_f = []\n",
        "no_of_clusters = [2,3,4,5,7,10,12,17]\n",
        "for q in no_of_clusters:\n",
        "    start = time.perf_counter()\n",
        "    test_label, pred_label = GMM_prediction(q,pb_test_df_list,'full')\n",
        "    acc = 100*accuracy_score(test_label, pred_label)\n",
        "    end = time.perf_counter()\n",
        "    calculation_time_f.append(end-start)\n",
        "    prediction_accuracy_pb_test_f.append(acc)\n",
        "    "
      ]
    },
    {
      "cell_type": "code",
      "execution_count": null,
      "id": "510c4609",
      "metadata": {
        "id": "510c4609"
      },
      "outputs": [],
      "source": [
        "num_clusters = [25,32,42]\n",
        "for q in num_clusters:\n",
        "    start = time.perf_counter()\n",
        "    test_label, pred_label = GMM_prediction(q,pb_test_df_list,'full')\n",
        "    acc = 100*accuracy_score(test_label, pred_label)\n",
        "    end = time.perf_counter()\n",
        "    calculation_time_f.append(end-start)\n",
        "    prediction_accuracy_pb_test_f.append(acc)\n",
        "    "
      ]
    },
    {
      "cell_type": "code",
      "execution_count": null,
      "id": "a434c333",
      "metadata": {
        "id": "a434c333",
        "outputId": "12dd5fd6-3ce1-4e62-9f61-1ad22b6aa003"
      },
      "outputs": [
        {
          "data": {
            "text/plain": [
              "[50.008187326019325,\n",
              " 52.82732447817837,\n",
              " 53.81943574875504,\n",
              " 54.81366609194849,\n",
              " 56.6370317571928,\n",
              " 58.06239705641549,\n",
              " 58.68444119091881,\n",
              " 59.839528410021295,\n",
              " 61.03661179552876,\n",
              " 61.65750007224111,\n",
              " 62.22290717498724]"
            ]
          },
          "execution_count": 43,
          "metadata": {},
          "output_type": "execute_result"
        }
      ],
      "source": [
        "prediction_accuracy_pb_test_f ## Prediction Accuracy for prasar bharti if cov_type = diagonal matrix"
      ]
    },
    {
      "cell_type": "code",
      "execution_count": null,
      "id": "e5017099",
      "metadata": {
        "id": "e5017099",
        "outputId": "d9d787d2-3c64-456f-82ed-b2c6bb0119aa"
      },
      "outputs": [
        {
          "data": {
            "text/plain": [
              "[88.72513949600398,\n",
              " 179.38109570500092,\n",
              " 262.0267129200074,\n",
              " 279.59058595199895,\n",
              " 484.8513579760038,\n",
              " 730.9109867939987,\n",
              " 910.990193493999,\n",
              " 1288.4623996220034,\n",
              " 2379.651517359991,\n",
              " 3454.560725602001,\n",
              " 4374.953712629998]"
            ]
          },
          "execution_count": 29,
          "metadata": {},
          "output_type": "execute_result"
        }
      ],
      "source": [
        "calculation_time_f"
      ]
    },
    {
      "cell_type": "code",
      "execution_count": null,
      "id": "8aa571e6",
      "metadata": {
        "id": "8aa571e6",
        "outputId": "1509a66b-d349-4298-87ff-8db2effa9f12"
      },
      "outputs": [
        {
          "data": {
            "text/plain": [
              "240.56840712585011"
            ]
          },
          "execution_count": 63,
          "metadata": {},
          "output_type": "execute_result"
        }
      ],
      "source": [
        "sum(calculation_time_f)/60"
      ]
    },
    {
      "cell_type": "code",
      "execution_count": null,
      "id": "ca93cfc1",
      "metadata": {
        "id": "ca93cfc1"
      },
      "outputs": [],
      "source": [
        "def GMM_model(q,cov_type):\n",
        "    gmm_lists = [GaussianMixture(n_components=q, covariance_type=cov_type,random_state=42,init_params='kmeans').fit(train_df_list[i].values) for i in range(len(train_df_list))]\n",
        "    return gmm_lists"
      ]
    },
    {
      "cell_type": "code",
      "source": [
        "clusters_count_d = [17,42]\n",
        "cluster_count_f = [5,25]\n"
      ],
      "metadata": {
        "id": "Ly21OZyvlfMv"
      },
      "id": "Ly21OZyvlfMv",
      "execution_count": null,
      "outputs": []
    },
    {
      "cell_type": "code",
      "source": [
        "## please don't re-run it\n",
        "gmm_for_diag_cov = []\n",
        "gmm_for_full_cov = []"
      ],
      "metadata": {
        "id": "OBTCDuLwlfRh"
      },
      "id": "OBTCDuLwlfRh",
      "execution_count": null,
      "outputs": []
    },
    {
      "cell_type": "code",
      "source": [
        "for i in range(2):\n",
        "    comp_i_gmm = GMM_model(clusters_count_d[i],'diag')\n",
        "    gmm_for_diag_cov.append(comp_i_gmm)\n",
        "    print(i)"
      ],
      "metadata": {
        "colab": {
          "base_uri": "https://localhost:8080/"
        },
        "id": "FZVgAzzplfTo",
        "outputId": "7eb91cbe-fbca-4141-9f7f-c24d53ad27ec"
      },
      "id": "FZVgAzzplfTo",
      "execution_count": null,
      "outputs": [
        {
          "output_type": "stream",
          "name": "stdout",
          "text": [
            "0\n",
            "1\n"
          ]
        }
      ]
    },
    {
      "cell_type": "code",
      "source": [
        "gmm_for_diag_cov"
      ],
      "metadata": {
        "colab": {
          "base_uri": "https://localhost:8080/"
        },
        "id": "PNps_p3blfUz",
        "outputId": "3dc993b7-0b25-4118-fe46-be78dfa8bec8"
      },
      "id": "PNps_p3blfUz",
      "execution_count": null,
      "outputs": [
        {
          "output_type": "stream",
          "name": "stdout",
          "text": [
            "[[GaussianMixture(covariance_type='diag', n_components=17, random_state=42),\n",
            "  GaussianMixture(covariance_type='diag', n_components=17, random_state=42),\n",
            "  GaussianMixture(covariance_type='diag', n_components=17, random_state=42),\n",
            "  GaussianMixture(covariance_type='diag', n_components=17, random_state=42),\n",
            "  GaussianMixture(covariance_type='diag', n_components=17, random_state=42),\n",
            "  GaussianMixture(covariance_type='diag', n_components=17, random_state=42),\n",
            "  GaussianMixture(covariance_type='diag', n_components=17, random_state=42),\n",
            "  GaussianMixture(covariance_type='diag', n_components=17, random_state=42),\n",
            "  GaussianMixture(covariance_type='diag', n_components=17, random_state=42),\n",
            "  GaussianMixture(covariance_type='diag', n_components=17, random_state=42),\n",
            "  GaussianMixture(covariance_type='diag', n_components=17, random_state=42),\n",
            "  GaussianMixture(covariance_type='diag', n_components=17, random_state=42)],\n",
            " [GaussianMixture(covariance_type='diag', n_components=42, random_state=42),\n",
            "  GaussianMixture(covariance_type='diag', n_components=42, random_state=42),\n",
            "  GaussianMixture(covariance_type='diag', n_components=42, random_state=42),\n",
            "  GaussianMixture(covariance_type='diag', n_components=42, random_state=42),\n",
            "  GaussianMixture(covariance_type='diag', n_components=42, random_state=42),\n",
            "  GaussianMixture(covariance_type='diag', n_components=42, random_state=42),\n",
            "  GaussianMixture(covariance_type='diag', n_components=42, random_state=42),\n",
            "  GaussianMixture(covariance_type='diag', n_components=42, random_state=42),\n",
            "  GaussianMixture(covariance_type='diag', n_components=42, random_state=42),\n",
            "  GaussianMixture(covariance_type='diag', n_components=42, random_state=42),\n",
            "  GaussianMixture(covariance_type='diag', n_components=42, random_state=42),\n",
            "  GaussianMixture(covariance_type='diag', n_components=42, random_state=42)]]\n"
          ]
        }
      ]
    },
    {
      "cell_type": "code",
      "source": [
        "for i in range(len(clusters_count_d)):\n",
        "    print(f'prediction for diagonal cov and q = {clusters_count_d[i]}')\n",
        "    overall_acc = prediction(pb_test_df_list, gmm_for_diag_cov[i])\n",
        "    print(overall_acc)"
      ],
      "metadata": {
        "colab": {
          "base_uri": "https://localhost:8080/"
        },
        "id": "8R6Atiu3lfZj",
        "outputId": "f0ed29db-fda6-43ca-f89c-3d94afc9d1f5"
      },
      "id": "8R6Atiu3lfZj",
      "execution_count": null,
      "outputs": [
        {
          "output_type": "stream",
          "name": "stdout",
          "text": [
            "prediction for diagonal cov and q = 17\n",
            "Accuracy for each language is: \n",
            "\n",
            "asm : 34.069%\n",
            "tam : 48.468%\n",
            "odi : 51.160%\n",
            "tel : 26.552%\n",
            "hin : 26.060%\n",
            "mar : 36.267%\n",
            "ben : 55.290%\n",
            "mal : 39.788%\n",
            "guj : 52.220%\n",
            "eng : 38.610%\n",
            "kan : 40.213%\n",
            "pun : 38.793%\n",
            "\n",
            "Overall Accuracy : 40.693\n",
            "40.69255145975207\n",
            "prediction for diagonal cov and q = 42\n",
            "Accuracy for each language is: \n",
            "\n",
            "asm : 37.322%\n",
            "tam : 50.859%\n",
            "odi : 53.703%\n",
            "tel : 30.734%\n",
            "hin : 31.632%\n",
            "mar : 37.687%\n",
            "ben : 58.759%\n",
            "mal : 42.616%\n",
            "guj : 55.239%\n",
            "eng : 40.927%\n",
            "kan : 44.860%\n",
            "pun : 39.567%\n",
            "\n",
            "Overall Accuracy : 43.731\n",
            "43.730531020333466\n"
          ]
        }
      ]
    },
    {
      "cell_type": "code",
      "source": [
        "for i in range(2):\n",
        "    comp_j_gmm = GMM_model(clusters_count_d[i],'full')\n",
        "    gmm_for_full_cov.append(comp_j_gmm)\n",
        "    print(i)"
      ],
      "metadata": {
        "id": "JfPI1PjBlfaq"
      },
      "id": "JfPI1PjBlfaq",
      "execution_count": null,
      "outputs": []
    },
    {
      "cell_type": "code",
      "source": [
        "gmm_for_full_cov"
      ],
      "metadata": {
        "colab": {
          "base_uri": "https://localhost:8080/"
        },
        "id": "HQvR4HLjlfdE",
        "outputId": "a1f8eec9-82d9-40db-bb0e-d4076a8329be"
      },
      "id": "HQvR4HLjlfdE",
      "execution_count": null,
      "outputs": [
        {
          "output_type": "stream",
          "name": "stdout",
          "text": [
            "[[GaussianMixture(n_components=17, random_state=42),\n",
            "  GaussianMixture(n_components=17, random_state=42),\n",
            "  GaussianMixture(n_components=17, random_state=42),\n",
            "  GaussianMixture(n_components=17, random_state=42),\n",
            "  GaussianMixture(n_components=17, random_state=42),\n",
            "  GaussianMixture(n_components=17, random_state=42),\n",
            "  GaussianMixture(n_components=17, random_state=42),\n",
            "  GaussianMixture(n_components=17, random_state=42),\n",
            "  GaussianMixture(n_components=17, random_state=42),\n",
            "  GaussianMixture(n_components=17, random_state=42),\n",
            "  GaussianMixture(n_components=17, random_state=42),\n",
            "  GaussianMixture(n_components=17, random_state=42)]]\n"
          ]
        }
      ]
    },
    {
      "cell_type": "code",
      "source": [
        "print(f'prediction for full cov and q = {clusters_count_d[0]}')\n",
        "overall_acc = prediction(pb_test_df_list, gmm_for_full_cov[0])"
      ],
      "metadata": {
        "colab": {
          "base_uri": "https://localhost:8080/"
        },
        "id": "P1VGRYTvmsXb",
        "outputId": "5566950f-a50e-44f4-b01f-c42292b08216"
      },
      "id": "P1VGRYTvmsXb",
      "execution_count": null,
      "outputs": [
        {
          "output_type": "stream",
          "name": "stdout",
          "text": [
            "prediction for diagonal cov and q = 17\n",
            "Accuracy for each language is: \n",
            "\n",
            "asm : 57.835%\n",
            "tam : 61.557%\n",
            "odi : 67.773%\n",
            "tel : 51.192%\n",
            "hin : 53.106%\n",
            "mar : 53.334%\n",
            "ben : 76.115%\n",
            "mal : 59.042%\n",
            "guj : 73.007%\n",
            "eng : 60.169%\n",
            "kan : 61.742%\n",
            "pun : 45.175%\n",
            "\n",
            "Overall Accuracy : 59.966\n"
          ]
        }
      ]
    },
    {
      "cell_type": "code",
      "source": [
        "def get_confusion_matrix(test_df_list, specific_gmm_list):\n",
        "    y_test = [] # true labels\n",
        "    for i in range(len(test_df_list)):\n",
        "        for x in range(len(test_df_list[i])):\n",
        "            y_test.append(i)\n",
        "    test = pd.concat(test_df_list, axis=0)\n",
        "    log_lists = [gmm.score_samples(test.values) for gmm in specific_gmm_list]\n",
        "    \n",
        "    ## Now predicting output based on build model\n",
        "    y_pred = [] #predicted labels based on our model\n",
        "    for i in range(len(test)):\n",
        "        # we need to find argmax such that log probability is maximum\n",
        "        index_of_log_max = 0\n",
        "        for j in range(len(log_lists)):\n",
        "            if(log_lists[j][i] + log_priors[j] > log_lists[index_of_log_max][i] + log_priors[index_of_log_max]):\n",
        "                index_of_log_max = j\n",
        "        y_pred.append(index_of_log_max)\n",
        "    cm = confusion_matrix(y_test,y_pred)\n",
        "    return cm"
      ],
      "metadata": {
        "id": "-71hj77jlfgM"
      },
      "id": "-71hj77jlfgM",
      "execution_count": null,
      "outputs": []
    },
    {
      "cell_type": "code",
      "source": [
        "cm_for_full_q_17 = get_confusion_matrix(pb_test_df_list, gmm_for_diag_cov[1])"
      ],
      "metadata": {
        "id": "8hzwLS6-mcoM"
      },
      "id": "8hzwLS6-mcoM",
      "execution_count": null,
      "outputs": []
    },
    {
      "cell_type": "code",
      "source": [
        "df = pd.DataFrame(cm_for_full_q_17, index = languages, \n",
        "                  columns = languages)\n"
      ],
      "metadata": {
        "id": "LdnuLFmwmcrL"
      },
      "id": "LdnuLFmwmcrL",
      "execution_count": null,
      "outputs": []
    },
    {
      "cell_type": "code",
      "source": [
        "cm_for_full_q_17 "
      ],
      "metadata": {
        "colab": {
          "base_uri": "https://localhost:8080/"
        },
        "id": "xNzDzOcslfh4",
        "outputId": "a337b330-0ffe-42bc-adaa-627e49fa2ce4"
      },
      "id": "xNzDzOcslfh4",
      "execution_count": null,
      "outputs": [
        {
          "output_type": "execute_result",
          "data": {
            "text/plain": [
              "array([[15569,  1919,  4281,  3002,  2015,  2246,  2288,  2164,  1217,\n",
              "         4662,  1823,   529],\n",
              "       [ 1084, 22221,  2355,  3178,  1845,  1071,  2266,  2103,  3444,\n",
              "          537,  2248,  1339],\n",
              "       [ 2883,  2121, 23523,  2156,  1033,  1174,  2030,  2950,  1136,\n",
              "         2287,  1742,   767],\n",
              "       [ 2485,  3377,  3195, 14494,  3296,  2311,  1151,  2863,  6265,\n",
              "         2842,  3120,  1761],\n",
              "       [ 2342,  2436,  1636,  3800, 13643,  2363,  1376,  1303,  6187,\n",
              "         2632,  1998,  3415],\n",
              "       [ 4332,  2502,  2739,  1939,  1819, 13591,  1231,  2762,  1142,\n",
              "         2322,   901,   783],\n",
              "       [ 2902,  1734,  3492,  1298,  1253,  1303, 25592,  2227,   889,\n",
              "         1042,  1315,   507],\n",
              "       [ 2346,  2909,  5001,  2528,   960,  1476,  1720, 16576,  1755,\n",
              "         1733,  1380,   512],\n",
              "       [  564,  2684,  1133,  4581,  3054,  1008,   381,   855, 25748,\n",
              "          556,  1433,  4615],\n",
              "       [ 4392,  1617,  3371,  3614,  2392,  2242,   592,  2434,  1065,\n",
              "        17203,  2933,   178],\n",
              "       [ 2023,  2777,  3204,  3047,  2125,  1034,  1391,  1845,  2492,\n",
              "         2478, 19222,  1211],\n",
              "       [  671,  1550,   953,  4422,  3006,   649,   367,   623, 15541,\n",
              "          341,  1845, 19621]])"
            ]
          },
          "metadata": {},
          "execution_count": 61
        }
      ]
    },
    {
      "cell_type": "code",
      "source": [
        "df ## confusion matrix"
      ],
      "metadata": {
        "colab": {
          "base_uri": "https://localhost:8080/",
          "height": 426
        },
        "id": "yekg5ca0nEnq",
        "outputId": "69a855a7-80f5-4db4-879b-5392f0e80a72"
      },
      "id": "yekg5ca0nEnq",
      "execution_count": null,
      "outputs": [
        {
          "output_type": "execute_result",
          "data": {
            "text/plain": [
              "       asm    tam    odi    tel    hin    mar    ben    mal    guj    eng  \\\n",
              "asm  15569   1919   4281   3002   2015   2246   2288   2164   1217   4662   \n",
              "tam   1084  22221   2355   3178   1845   1071   2266   2103   3444    537   \n",
              "odi   2883   2121  23523   2156   1033   1174   2030   2950   1136   2287   \n",
              "tel   2485   3377   3195  14494   3296   2311   1151   2863   6265   2842   \n",
              "hin   2342   2436   1636   3800  13643   2363   1376   1303   6187   2632   \n",
              "mar   4332   2502   2739   1939   1819  13591   1231   2762   1142   2322   \n",
              "ben   2902   1734   3492   1298   1253   1303  25592   2227    889   1042   \n",
              "mal   2346   2909   5001   2528    960   1476   1720  16576   1755   1733   \n",
              "guj    564   2684   1133   4581   3054   1008    381    855  25748    556   \n",
              "eng   4392   1617   3371   3614   2392   2242    592   2434   1065  17203   \n",
              "kan   2023   2777   3204   3047   2125   1034   1391   1845   2492   2478   \n",
              "pun    671   1550    953   4422   3006    649    367    623  15541    341   \n",
              "\n",
              "       kan    pun  \n",
              "asm   1823    529  \n",
              "tam   2248   1339  \n",
              "odi   1742    767  \n",
              "tel   3120   1761  \n",
              "hin   1998   3415  \n",
              "mar    901    783  \n",
              "ben   1315    507  \n",
              "mal   1380    512  \n",
              "guj   1433   4615  \n",
              "eng   2933    178  \n",
              "kan  19222   1211  \n",
              "pun   1845  19621  "
            ],
            "text/html": [
              "\n",
              "  <div id=\"df-aed8d65c-aa31-4fbf-9438-729a80ed3715\">\n",
              "    <div class=\"colab-df-container\">\n",
              "      <div>\n",
              "<style scoped>\n",
              "    .dataframe tbody tr th:only-of-type {\n",
              "        vertical-align: middle;\n",
              "    }\n",
              "\n",
              "    .dataframe tbody tr th {\n",
              "        vertical-align: top;\n",
              "    }\n",
              "\n",
              "    .dataframe thead th {\n",
              "        text-align: right;\n",
              "    }\n",
              "</style>\n",
              "<table border=\"1\" class=\"dataframe\">\n",
              "  <thead>\n",
              "    <tr style=\"text-align: right;\">\n",
              "      <th></th>\n",
              "      <th>asm</th>\n",
              "      <th>tam</th>\n",
              "      <th>odi</th>\n",
              "      <th>tel</th>\n",
              "      <th>hin</th>\n",
              "      <th>mar</th>\n",
              "      <th>ben</th>\n",
              "      <th>mal</th>\n",
              "      <th>guj</th>\n",
              "      <th>eng</th>\n",
              "      <th>kan</th>\n",
              "      <th>pun</th>\n",
              "    </tr>\n",
              "  </thead>\n",
              "  <tbody>\n",
              "    <tr>\n",
              "      <th>asm</th>\n",
              "      <td>15569</td>\n",
              "      <td>1919</td>\n",
              "      <td>4281</td>\n",
              "      <td>3002</td>\n",
              "      <td>2015</td>\n",
              "      <td>2246</td>\n",
              "      <td>2288</td>\n",
              "      <td>2164</td>\n",
              "      <td>1217</td>\n",
              "      <td>4662</td>\n",
              "      <td>1823</td>\n",
              "      <td>529</td>\n",
              "    </tr>\n",
              "    <tr>\n",
              "      <th>tam</th>\n",
              "      <td>1084</td>\n",
              "      <td>22221</td>\n",
              "      <td>2355</td>\n",
              "      <td>3178</td>\n",
              "      <td>1845</td>\n",
              "      <td>1071</td>\n",
              "      <td>2266</td>\n",
              "      <td>2103</td>\n",
              "      <td>3444</td>\n",
              "      <td>537</td>\n",
              "      <td>2248</td>\n",
              "      <td>1339</td>\n",
              "    </tr>\n",
              "    <tr>\n",
              "      <th>odi</th>\n",
              "      <td>2883</td>\n",
              "      <td>2121</td>\n",
              "      <td>23523</td>\n",
              "      <td>2156</td>\n",
              "      <td>1033</td>\n",
              "      <td>1174</td>\n",
              "      <td>2030</td>\n",
              "      <td>2950</td>\n",
              "      <td>1136</td>\n",
              "      <td>2287</td>\n",
              "      <td>1742</td>\n",
              "      <td>767</td>\n",
              "    </tr>\n",
              "    <tr>\n",
              "      <th>tel</th>\n",
              "      <td>2485</td>\n",
              "      <td>3377</td>\n",
              "      <td>3195</td>\n",
              "      <td>14494</td>\n",
              "      <td>3296</td>\n",
              "      <td>2311</td>\n",
              "      <td>1151</td>\n",
              "      <td>2863</td>\n",
              "      <td>6265</td>\n",
              "      <td>2842</td>\n",
              "      <td>3120</td>\n",
              "      <td>1761</td>\n",
              "    </tr>\n",
              "    <tr>\n",
              "      <th>hin</th>\n",
              "      <td>2342</td>\n",
              "      <td>2436</td>\n",
              "      <td>1636</td>\n",
              "      <td>3800</td>\n",
              "      <td>13643</td>\n",
              "      <td>2363</td>\n",
              "      <td>1376</td>\n",
              "      <td>1303</td>\n",
              "      <td>6187</td>\n",
              "      <td>2632</td>\n",
              "      <td>1998</td>\n",
              "      <td>3415</td>\n",
              "    </tr>\n",
              "    <tr>\n",
              "      <th>mar</th>\n",
              "      <td>4332</td>\n",
              "      <td>2502</td>\n",
              "      <td>2739</td>\n",
              "      <td>1939</td>\n",
              "      <td>1819</td>\n",
              "      <td>13591</td>\n",
              "      <td>1231</td>\n",
              "      <td>2762</td>\n",
              "      <td>1142</td>\n",
              "      <td>2322</td>\n",
              "      <td>901</td>\n",
              "      <td>783</td>\n",
              "    </tr>\n",
              "    <tr>\n",
              "      <th>ben</th>\n",
              "      <td>2902</td>\n",
              "      <td>1734</td>\n",
              "      <td>3492</td>\n",
              "      <td>1298</td>\n",
              "      <td>1253</td>\n",
              "      <td>1303</td>\n",
              "      <td>25592</td>\n",
              "      <td>2227</td>\n",
              "      <td>889</td>\n",
              "      <td>1042</td>\n",
              "      <td>1315</td>\n",
              "      <td>507</td>\n",
              "    </tr>\n",
              "    <tr>\n",
              "      <th>mal</th>\n",
              "      <td>2346</td>\n",
              "      <td>2909</td>\n",
              "      <td>5001</td>\n",
              "      <td>2528</td>\n",
              "      <td>960</td>\n",
              "      <td>1476</td>\n",
              "      <td>1720</td>\n",
              "      <td>16576</td>\n",
              "      <td>1755</td>\n",
              "      <td>1733</td>\n",
              "      <td>1380</td>\n",
              "      <td>512</td>\n",
              "    </tr>\n",
              "    <tr>\n",
              "      <th>guj</th>\n",
              "      <td>564</td>\n",
              "      <td>2684</td>\n",
              "      <td>1133</td>\n",
              "      <td>4581</td>\n",
              "      <td>3054</td>\n",
              "      <td>1008</td>\n",
              "      <td>381</td>\n",
              "      <td>855</td>\n",
              "      <td>25748</td>\n",
              "      <td>556</td>\n",
              "      <td>1433</td>\n",
              "      <td>4615</td>\n",
              "    </tr>\n",
              "    <tr>\n",
              "      <th>eng</th>\n",
              "      <td>4392</td>\n",
              "      <td>1617</td>\n",
              "      <td>3371</td>\n",
              "      <td>3614</td>\n",
              "      <td>2392</td>\n",
              "      <td>2242</td>\n",
              "      <td>592</td>\n",
              "      <td>2434</td>\n",
              "      <td>1065</td>\n",
              "      <td>17203</td>\n",
              "      <td>2933</td>\n",
              "      <td>178</td>\n",
              "    </tr>\n",
              "    <tr>\n",
              "      <th>kan</th>\n",
              "      <td>2023</td>\n",
              "      <td>2777</td>\n",
              "      <td>3204</td>\n",
              "      <td>3047</td>\n",
              "      <td>2125</td>\n",
              "      <td>1034</td>\n",
              "      <td>1391</td>\n",
              "      <td>1845</td>\n",
              "      <td>2492</td>\n",
              "      <td>2478</td>\n",
              "      <td>19222</td>\n",
              "      <td>1211</td>\n",
              "    </tr>\n",
              "    <tr>\n",
              "      <th>pun</th>\n",
              "      <td>671</td>\n",
              "      <td>1550</td>\n",
              "      <td>953</td>\n",
              "      <td>4422</td>\n",
              "      <td>3006</td>\n",
              "      <td>649</td>\n",
              "      <td>367</td>\n",
              "      <td>623</td>\n",
              "      <td>15541</td>\n",
              "      <td>341</td>\n",
              "      <td>1845</td>\n",
              "      <td>19621</td>\n",
              "    </tr>\n",
              "  </tbody>\n",
              "</table>\n",
              "</div>\n",
              "      <button class=\"colab-df-convert\" onclick=\"convertToInteractive('df-aed8d65c-aa31-4fbf-9438-729a80ed3715')\"\n",
              "              title=\"Convert this dataframe to an interactive table.\"\n",
              "              style=\"display:none;\">\n",
              "        \n",
              "  <svg xmlns=\"http://www.w3.org/2000/svg\" height=\"24px\"viewBox=\"0 0 24 24\"\n",
              "       width=\"24px\">\n",
              "    <path d=\"M0 0h24v24H0V0z\" fill=\"none\"/>\n",
              "    <path d=\"M18.56 5.44l.94 2.06.94-2.06 2.06-.94-2.06-.94-.94-2.06-.94 2.06-2.06.94zm-11 1L8.5 8.5l.94-2.06 2.06-.94-2.06-.94L8.5 2.5l-.94 2.06-2.06.94zm10 10l.94 2.06.94-2.06 2.06-.94-2.06-.94-.94-2.06-.94 2.06-2.06.94z\"/><path d=\"M17.41 7.96l-1.37-1.37c-.4-.4-.92-.59-1.43-.59-.52 0-1.04.2-1.43.59L10.3 9.45l-7.72 7.72c-.78.78-.78 2.05 0 2.83L4 21.41c.39.39.9.59 1.41.59.51 0 1.02-.2 1.41-.59l7.78-7.78 2.81-2.81c.8-.78.8-2.07 0-2.86zM5.41 20L4 18.59l7.72-7.72 1.47 1.35L5.41 20z\"/>\n",
              "  </svg>\n",
              "      </button>\n",
              "      \n",
              "  <style>\n",
              "    .colab-df-container {\n",
              "      display:flex;\n",
              "      flex-wrap:wrap;\n",
              "      gap: 12px;\n",
              "    }\n",
              "\n",
              "    .colab-df-convert {\n",
              "      background-color: #E8F0FE;\n",
              "      border: none;\n",
              "      border-radius: 50%;\n",
              "      cursor: pointer;\n",
              "      display: none;\n",
              "      fill: #1967D2;\n",
              "      height: 32px;\n",
              "      padding: 0 0 0 0;\n",
              "      width: 32px;\n",
              "    }\n",
              "\n",
              "    .colab-df-convert:hover {\n",
              "      background-color: #E2EBFA;\n",
              "      box-shadow: 0px 1px 2px rgba(60, 64, 67, 0.3), 0px 1px 3px 1px rgba(60, 64, 67, 0.15);\n",
              "      fill: #174EA6;\n",
              "    }\n",
              "\n",
              "    [theme=dark] .colab-df-convert {\n",
              "      background-color: #3B4455;\n",
              "      fill: #D2E3FC;\n",
              "    }\n",
              "\n",
              "    [theme=dark] .colab-df-convert:hover {\n",
              "      background-color: #434B5C;\n",
              "      box-shadow: 0px 1px 3px 1px rgba(0, 0, 0, 0.15);\n",
              "      filter: drop-shadow(0px 1px 2px rgba(0, 0, 0, 0.3));\n",
              "      fill: #FFFFFF;\n",
              "    }\n",
              "  </style>\n",
              "\n",
              "      <script>\n",
              "        const buttonEl =\n",
              "          document.querySelector('#df-aed8d65c-aa31-4fbf-9438-729a80ed3715 button.colab-df-convert');\n",
              "        buttonEl.style.display =\n",
              "          google.colab.kernel.accessAllowed ? 'block' : 'none';\n",
              "\n",
              "        async function convertToInteractive(key) {\n",
              "          const element = document.querySelector('#df-aed8d65c-aa31-4fbf-9438-729a80ed3715');\n",
              "          const dataTable =\n",
              "            await google.colab.kernel.invokeFunction('convertToInteractive',\n",
              "                                                     [key], {});\n",
              "          if (!dataTable) return;\n",
              "\n",
              "          const docLinkHtml = 'Like what you see? Visit the ' +\n",
              "            '<a target=\"_blank\" href=https://colab.research.google.com/notebooks/data_table.ipynb>data table notebook</a>'\n",
              "            + ' to learn more about interactive tables.';\n",
              "          element.innerHTML = '';\n",
              "          dataTable['output_type'] = 'display_data';\n",
              "          await google.colab.output.renderOutput(dataTable, element);\n",
              "          const docLink = document.createElement('div');\n",
              "          docLink.innerHTML = docLinkHtml;\n",
              "          element.appendChild(docLink);\n",
              "        }\n",
              "      </script>\n",
              "    </div>\n",
              "  </div>\n",
              "  "
            ]
          },
          "metadata": {},
          "execution_count": 62
        }
      ]
    },
    {
      "cell_type": "code",
      "source": [
        "df.to_csv('abc2.csv',encoding='utf16') ## directly make a csv from confusion matrix so that we can directly add it into report"
      ],
      "metadata": {
        "id": "dVadMzoCnEqm"
      },
      "id": "dVadMzoCnEqm",
      "execution_count": null,
      "outputs": []
    },
    {
      "cell_type": "code",
      "source": [
        "os.getcwd()"
      ],
      "metadata": {
        "colab": {
          "base_uri": "https://localhost:8080/",
          "height": 36
        },
        "id": "tpmcKsKPnc4q",
        "outputId": "6059bcd7-98bf-42ab-c883-35e6083f78d6"
      },
      "id": "tpmcKsKPnc4q",
      "execution_count": null,
      "outputs": [
        {
          "output_type": "execute_result",
          "data": {
            "text/plain": [
              "'/content/drive/MyDrive/Pattern Recognition/project'"
            ],
            "application/vnd.google.colaboratory.intrinsic+json": {
              "type": "string"
            }
          },
          "metadata": {},
          "execution_count": 64
        }
      ]
    },
    {
      "cell_type": "code",
      "source": [],
      "metadata": {
        "id": "nBqt00DBnc9s"
      },
      "id": "nBqt00DBnc9s",
      "execution_count": null,
      "outputs": []
    },
    {
      "cell_type": "code",
      "execution_count": null,
      "id": "b561d027",
      "metadata": {
        "id": "b561d027"
      },
      "outputs": [],
      "source": []
    },
    {
      "cell_type": "markdown",
      "id": "11d22daf",
      "metadata": {
        "id": "11d22daf"
      },
      "source": [
        "# Part2: Classification using UBM-GMM"
      ]
    },
    {
      "cell_type": "code",
      "execution_count": null,
      "id": "ba228cd9",
      "metadata": {
        "id": "ba228cd9",
        "outputId": "5dcdef82-a929-471f-c4f6-7ea1bcf83a65"
      },
      "outputs": [
        {
          "data": {
            "text/plain": [
              "['asm_combined.csv',\n",
              " 'tam_combined.csv',\n",
              " 'odi_combined.csv',\n",
              " 'tel_combined.csv',\n",
              " 'hin_combined.csv',\n",
              " 'mar_combined.csv',\n",
              " 'ben_combined.csv',\n",
              " 'mal_combined.csv',\n",
              " 'guj_combined.csv',\n",
              " 'eng_combined.csv',\n",
              " 'kan_combined.csv',\n",
              " 'pun_combined.csv']"
            ]
          },
          "execution_count": 46,
          "metadata": {},
          "output_type": "execute_result"
        }
      ],
      "source": [
        "#######################\n",
        "# train_test_df_list :- list of training data frames for each language\n",
        "# pb_test_df_list    :- list of test DataFrame from prasar bharti\n",
        "# yt_test_df_list    :- list of test DataFrame from youtube for each language\n",
        "######################\n",
        "language_file_names"
      ]
    },
    {
      "cell_type": "code",
      "execution_count": null,
      "id": "06fbd719",
      "metadata": {
        "id": "06fbd719"
      },
      "outputs": [],
      "source": [
        "## combine all Training data_frame into one\n",
        "combined_train_df = pd.concat(train_df_list,axis=0)"
      ]
    },
    {
      "cell_type": "code",
      "execution_count": null,
      "id": "8a6f9578",
      "metadata": {
        "id": "8a6f9578",
        "outputId": "8b72b55c-f3ef-4ec7-d1ef-390974d1b9d0"
      },
      "outputs": [
        {
          "data": {
            "text/html": [
              "<div>\n",
              "<style scoped>\n",
              "    .dataframe tbody tr th:only-of-type {\n",
              "        vertical-align: middle;\n",
              "    }\n",
              "\n",
              "    .dataframe tbody tr th {\n",
              "        vertical-align: top;\n",
              "    }\n",
              "\n",
              "    .dataframe thead th {\n",
              "        text-align: right;\n",
              "    }\n",
              "</style>\n",
              "<table border=\"1\" class=\"dataframe\">\n",
              "  <thead>\n",
              "    <tr style=\"text-align: right;\">\n",
              "      <th></th>\n",
              "      <th>0</th>\n",
              "      <th>1</th>\n",
              "      <th>2</th>\n",
              "      <th>3</th>\n",
              "      <th>4</th>\n",
              "      <th>5</th>\n",
              "      <th>6</th>\n",
              "      <th>7</th>\n",
              "      <th>8</th>\n",
              "      <th>9</th>\n",
              "      <th>...</th>\n",
              "      <th>29</th>\n",
              "      <th>30</th>\n",
              "      <th>31</th>\n",
              "      <th>32</th>\n",
              "      <th>33</th>\n",
              "      <th>34</th>\n",
              "      <th>35</th>\n",
              "      <th>36</th>\n",
              "      <th>37</th>\n",
              "      <th>38</th>\n",
              "    </tr>\n",
              "  </thead>\n",
              "  <tbody>\n",
              "    <tr>\n",
              "      <th>0</th>\n",
              "      <td>-327.63570</td>\n",
              "      <td>37.419964</td>\n",
              "      <td>18.487480</td>\n",
              "      <td>47.841170</td>\n",
              "      <td>-25.106857</td>\n",
              "      <td>17.362988</td>\n",
              "      <td>-68.670210</td>\n",
              "      <td>14.089197</td>\n",
              "      <td>-45.089690</td>\n",
              "      <td>0.489841</td>\n",
              "      <td>...</td>\n",
              "      <td>-7.339042</td>\n",
              "      <td>6.403467</td>\n",
              "      <td>0.534317</td>\n",
              "      <td>6.674861</td>\n",
              "      <td>0.884059</td>\n",
              "      <td>-0.274015</td>\n",
              "      <td>-1.329949</td>\n",
              "      <td>2.434734</td>\n",
              "      <td>-1.032549</td>\n",
              "      <td>3.179872</td>\n",
              "    </tr>\n",
              "    <tr>\n",
              "      <th>1</th>\n",
              "      <td>-297.17572</td>\n",
              "      <td>94.404930</td>\n",
              "      <td>-17.946505</td>\n",
              "      <td>57.833916</td>\n",
              "      <td>-20.233488</td>\n",
              "      <td>-10.419871</td>\n",
              "      <td>-80.249880</td>\n",
              "      <td>15.342583</td>\n",
              "      <td>-59.162570</td>\n",
              "      <td>1.753208</td>\n",
              "      <td>...</td>\n",
              "      <td>-1.875782</td>\n",
              "      <td>5.400658</td>\n",
              "      <td>3.362002</td>\n",
              "      <td>7.078026</td>\n",
              "      <td>-3.234990</td>\n",
              "      <td>3.838066</td>\n",
              "      <td>-2.429381</td>\n",
              "      <td>-0.052415</td>\n",
              "      <td>0.547910</td>\n",
              "      <td>1.361600</td>\n",
              "    </tr>\n",
              "    <tr>\n",
              "      <th>2</th>\n",
              "      <td>-323.59482</td>\n",
              "      <td>124.834180</td>\n",
              "      <td>-36.688614</td>\n",
              "      <td>8.888714</td>\n",
              "      <td>10.946780</td>\n",
              "      <td>-2.512810</td>\n",
              "      <td>-72.500854</td>\n",
              "      <td>25.863213</td>\n",
              "      <td>-59.755400</td>\n",
              "      <td>9.453260</td>\n",
              "      <td>...</td>\n",
              "      <td>2.341609</td>\n",
              "      <td>1.370428</td>\n",
              "      <td>2.527587</td>\n",
              "      <td>4.959356</td>\n",
              "      <td>-4.623656</td>\n",
              "      <td>4.043657</td>\n",
              "      <td>-1.010591</td>\n",
              "      <td>-2.468648</td>\n",
              "      <td>1.548490</td>\n",
              "      <td>-0.257136</td>\n",
              "    </tr>\n",
              "    <tr>\n",
              "      <th>3</th>\n",
              "      <td>-369.39502</td>\n",
              "      <td>150.657290</td>\n",
              "      <td>-41.121464</td>\n",
              "      <td>-20.446938</td>\n",
              "      <td>35.367622</td>\n",
              "      <td>0.368152</td>\n",
              "      <td>-65.408660</td>\n",
              "      <td>20.273070</td>\n",
              "      <td>-66.745180</td>\n",
              "      <td>12.132275</td>\n",
              "      <td>...</td>\n",
              "      <td>8.745836</td>\n",
              "      <td>-5.417446</td>\n",
              "      <td>-0.897644</td>\n",
              "      <td>4.872675</td>\n",
              "      <td>-2.865637</td>\n",
              "      <td>2.052848</td>\n",
              "      <td>1.323229</td>\n",
              "      <td>-5.049372</td>\n",
              "      <td>2.905232</td>\n",
              "      <td>-2.768251</td>\n",
              "    </tr>\n",
              "    <tr>\n",
              "      <th>4</th>\n",
              "      <td>-331.76807</td>\n",
              "      <td>37.391754</td>\n",
              "      <td>83.579940</td>\n",
              "      <td>22.513828</td>\n",
              "      <td>-78.831070</td>\n",
              "      <td>7.058447</td>\n",
              "      <td>-61.014194</td>\n",
              "      <td>-8.708761</td>\n",
              "      <td>-36.386925</td>\n",
              "      <td>9.179724</td>\n",
              "      <td>...</td>\n",
              "      <td>-2.186269</td>\n",
              "      <td>7.270893</td>\n",
              "      <td>3.384771</td>\n",
              "      <td>2.307689</td>\n",
              "      <td>-1.503728</td>\n",
              "      <td>-0.024249</td>\n",
              "      <td>-3.217382</td>\n",
              "      <td>-0.626611</td>\n",
              "      <td>-2.865426</td>\n",
              "      <td>-0.079948</td>\n",
              "    </tr>\n",
              "    <tr>\n",
              "      <th>...</th>\n",
              "      <td>...</td>\n",
              "      <td>...</td>\n",
              "      <td>...</td>\n",
              "      <td>...</td>\n",
              "      <td>...</td>\n",
              "      <td>...</td>\n",
              "      <td>...</td>\n",
              "      <td>...</td>\n",
              "      <td>...</td>\n",
              "      <td>...</td>\n",
              "      <td>...</td>\n",
              "      <td>...</td>\n",
              "      <td>...</td>\n",
              "      <td>...</td>\n",
              "      <td>...</td>\n",
              "      <td>...</td>\n",
              "      <td>...</td>\n",
              "      <td>...</td>\n",
              "      <td>...</td>\n",
              "      <td>...</td>\n",
              "      <td>...</td>\n",
              "    </tr>\n",
              "    <tr>\n",
              "      <th>93891</th>\n",
              "      <td>-385.57327</td>\n",
              "      <td>179.214020</td>\n",
              "      <td>20.792545</td>\n",
              "      <td>8.335224</td>\n",
              "      <td>-12.302502</td>\n",
              "      <td>-4.918374</td>\n",
              "      <td>-5.824989</td>\n",
              "      <td>-7.616494</td>\n",
              "      <td>-37.890182</td>\n",
              "      <td>-20.641796</td>\n",
              "      <td>...</td>\n",
              "      <td>7.700259</td>\n",
              "      <td>-0.724392</td>\n",
              "      <td>-2.649625</td>\n",
              "      <td>2.215665</td>\n",
              "      <td>5.132360</td>\n",
              "      <td>3.241640</td>\n",
              "      <td>3.633236</td>\n",
              "      <td>-0.332143</td>\n",
              "      <td>3.576127</td>\n",
              "      <td>-1.160962</td>\n",
              "    </tr>\n",
              "    <tr>\n",
              "      <th>93892</th>\n",
              "      <td>-389.14636</td>\n",
              "      <td>176.447280</td>\n",
              "      <td>12.087957</td>\n",
              "      <td>12.932072</td>\n",
              "      <td>-8.323687</td>\n",
              "      <td>9.229954</td>\n",
              "      <td>-5.461125</td>\n",
              "      <td>-24.122520</td>\n",
              "      <td>-39.651054</td>\n",
              "      <td>-8.348441</td>\n",
              "      <td>...</td>\n",
              "      <td>7.700259</td>\n",
              "      <td>-0.724392</td>\n",
              "      <td>-2.649625</td>\n",
              "      <td>2.215665</td>\n",
              "      <td>5.132360</td>\n",
              "      <td>3.241640</td>\n",
              "      <td>3.633236</td>\n",
              "      <td>-0.332143</td>\n",
              "      <td>3.576127</td>\n",
              "      <td>-1.160962</td>\n",
              "    </tr>\n",
              "    <tr>\n",
              "      <th>93893</th>\n",
              "      <td>-316.89758</td>\n",
              "      <td>154.656000</td>\n",
              "      <td>9.894594</td>\n",
              "      <td>-6.192114</td>\n",
              "      <td>14.569350</td>\n",
              "      <td>-5.181842</td>\n",
              "      <td>-28.590740</td>\n",
              "      <td>-25.999146</td>\n",
              "      <td>-36.866962</td>\n",
              "      <td>8.177891</td>\n",
              "      <td>...</td>\n",
              "      <td>7.700259</td>\n",
              "      <td>-0.724392</td>\n",
              "      <td>-2.649625</td>\n",
              "      <td>2.215665</td>\n",
              "      <td>5.132360</td>\n",
              "      <td>3.241640</td>\n",
              "      <td>3.633236</td>\n",
              "      <td>-0.332143</td>\n",
              "      <td>3.576127</td>\n",
              "      <td>-1.160962</td>\n",
              "    </tr>\n",
              "    <tr>\n",
              "      <th>93894</th>\n",
              "      <td>-253.29270</td>\n",
              "      <td>127.244790</td>\n",
              "      <td>3.563896</td>\n",
              "      <td>59.422120</td>\n",
              "      <td>-5.684948</td>\n",
              "      <td>-27.657372</td>\n",
              "      <td>-29.311470</td>\n",
              "      <td>-8.199422</td>\n",
              "      <td>-19.944588</td>\n",
              "      <td>19.340076</td>\n",
              "      <td>...</td>\n",
              "      <td>7.700259</td>\n",
              "      <td>-0.724392</td>\n",
              "      <td>-2.649625</td>\n",
              "      <td>2.215665</td>\n",
              "      <td>5.132360</td>\n",
              "      <td>3.241640</td>\n",
              "      <td>3.633236</td>\n",
              "      <td>-0.332143</td>\n",
              "      <td>3.576127</td>\n",
              "      <td>-1.160962</td>\n",
              "    </tr>\n",
              "    <tr>\n",
              "      <th>93895</th>\n",
              "      <td>-273.17032</td>\n",
              "      <td>125.618750</td>\n",
              "      <td>8.027863</td>\n",
              "      <td>51.682230</td>\n",
              "      <td>-16.121964</td>\n",
              "      <td>-26.988548</td>\n",
              "      <td>5.354419</td>\n",
              "      <td>-6.689812</td>\n",
              "      <td>-35.670982</td>\n",
              "      <td>7.086891</td>\n",
              "      <td>...</td>\n",
              "      <td>7.700259</td>\n",
              "      <td>-0.724392</td>\n",
              "      <td>-2.649625</td>\n",
              "      <td>2.215665</td>\n",
              "      <td>5.132360</td>\n",
              "      <td>3.241640</td>\n",
              "      <td>3.633236</td>\n",
              "      <td>-0.332143</td>\n",
              "      <td>3.576127</td>\n",
              "      <td>-1.160962</td>\n",
              "    </tr>\n",
              "  </tbody>\n",
              "</table>\n",
              "<p>1036801 rows × 39 columns</p>\n",
              "</div>"
            ],
            "text/plain": [
              "              0           1          2          3          4          5   \\\n",
              "0     -327.63570   37.419964  18.487480  47.841170 -25.106857  17.362988   \n",
              "1     -297.17572   94.404930 -17.946505  57.833916 -20.233488 -10.419871   \n",
              "2     -323.59482  124.834180 -36.688614   8.888714  10.946780  -2.512810   \n",
              "3     -369.39502  150.657290 -41.121464 -20.446938  35.367622   0.368152   \n",
              "4     -331.76807   37.391754  83.579940  22.513828 -78.831070   7.058447   \n",
              "...          ...         ...        ...        ...        ...        ...   \n",
              "93891 -385.57327  179.214020  20.792545   8.335224 -12.302502  -4.918374   \n",
              "93892 -389.14636  176.447280  12.087957  12.932072  -8.323687   9.229954   \n",
              "93893 -316.89758  154.656000   9.894594  -6.192114  14.569350  -5.181842   \n",
              "93894 -253.29270  127.244790   3.563896  59.422120  -5.684948 -27.657372   \n",
              "93895 -273.17032  125.618750   8.027863  51.682230 -16.121964 -26.988548   \n",
              "\n",
              "              6          7          8          9   ...        29        30  \\\n",
              "0     -68.670210  14.089197 -45.089690   0.489841  ... -7.339042  6.403467   \n",
              "1     -80.249880  15.342583 -59.162570   1.753208  ... -1.875782  5.400658   \n",
              "2     -72.500854  25.863213 -59.755400   9.453260  ...  2.341609  1.370428   \n",
              "3     -65.408660  20.273070 -66.745180  12.132275  ...  8.745836 -5.417446   \n",
              "4     -61.014194  -8.708761 -36.386925   9.179724  ... -2.186269  7.270893   \n",
              "...          ...        ...        ...        ...  ...       ...       ...   \n",
              "93891  -5.824989  -7.616494 -37.890182 -20.641796  ...  7.700259 -0.724392   \n",
              "93892  -5.461125 -24.122520 -39.651054  -8.348441  ...  7.700259 -0.724392   \n",
              "93893 -28.590740 -25.999146 -36.866962   8.177891  ...  7.700259 -0.724392   \n",
              "93894 -29.311470  -8.199422 -19.944588  19.340076  ...  7.700259 -0.724392   \n",
              "93895   5.354419  -6.689812 -35.670982   7.086891  ...  7.700259 -0.724392   \n",
              "\n",
              "             31        32        33        34        35        36        37  \\\n",
              "0      0.534317  6.674861  0.884059 -0.274015 -1.329949  2.434734 -1.032549   \n",
              "1      3.362002  7.078026 -3.234990  3.838066 -2.429381 -0.052415  0.547910   \n",
              "2      2.527587  4.959356 -4.623656  4.043657 -1.010591 -2.468648  1.548490   \n",
              "3     -0.897644  4.872675 -2.865637  2.052848  1.323229 -5.049372  2.905232   \n",
              "4      3.384771  2.307689 -1.503728 -0.024249 -3.217382 -0.626611 -2.865426   \n",
              "...         ...       ...       ...       ...       ...       ...       ...   \n",
              "93891 -2.649625  2.215665  5.132360  3.241640  3.633236 -0.332143  3.576127   \n",
              "93892 -2.649625  2.215665  5.132360  3.241640  3.633236 -0.332143  3.576127   \n",
              "93893 -2.649625  2.215665  5.132360  3.241640  3.633236 -0.332143  3.576127   \n",
              "93894 -2.649625  2.215665  5.132360  3.241640  3.633236 -0.332143  3.576127   \n",
              "93895 -2.649625  2.215665  5.132360  3.241640  3.633236 -0.332143  3.576127   \n",
              "\n",
              "             38  \n",
              "0      3.179872  \n",
              "1      1.361600  \n",
              "2     -0.257136  \n",
              "3     -2.768251  \n",
              "4     -0.079948  \n",
              "...         ...  \n",
              "93891 -1.160962  \n",
              "93892 -1.160962  \n",
              "93893 -1.160962  \n",
              "93894 -1.160962  \n",
              "93895 -1.160962  \n",
              "\n",
              "[1036801 rows x 39 columns]"
            ]
          },
          "execution_count": 58,
          "metadata": {},
          "output_type": "execute_result"
        }
      ],
      "source": [
        "combined_train_df"
      ]
    },
    {
      "cell_type": "code",
      "execution_count": null,
      "id": "9ce13665",
      "metadata": {
        "id": "9ce13665"
      },
      "outputs": [],
      "source": []
    },
    {
      "cell_type": "code",
      "execution_count": null,
      "id": "8f316f64",
      "metadata": {
        "id": "8f316f64"
      },
      "outputs": [],
      "source": [
        "num_components = [4, 12, 18, 24, 30]\n"
      ]
    },
    {
      "cell_type": "markdown",
      "id": "ed104146",
      "metadata": {
        "id": "ed104146"
      },
      "source": [
        "## Don't alter the below column "
      ]
    },
    {
      "cell_type": "code",
      "execution_count": null,
      "id": "3071275d",
      "metadata": {
        "id": "3071275d"
      },
      "outputs": [],
      "source": [
        "## make ubm of n_components = 4, 12, 18, 24, 30, 32, 42 and store it into a list for further use\n",
        "\n",
        "ubms_of_diagonal_cov = []\n",
        "ubms_of_full_cov = []\n",
        "class_specific_gmm_list_diag_cov = [] # each element itself is a list of gmm for each class for some num_components\n",
        "class_specific_gmm_list_full_cov = []"
      ]
    },
    {
      "cell_type": "code",
      "execution_count": null,
      "id": "1069c5d3",
      "metadata": {
        "id": "1069c5d3"
      },
      "outputs": [],
      "source": []
    },
    {
      "cell_type": "code",
      "execution_count": null,
      "id": "9ce0e3f2",
      "metadata": {
        "id": "9ce0e3f2",
        "outputId": "b9f01d5b-58c3-4782-e813-10bd814725fd"
      },
      "outputs": [
        {
          "name": "stdout",
          "output_type": "stream",
          "text": [
            "for q=4 time is 0.4913561062664182 minutes\n",
            "for q=12 time is 1.0383462752666675 minutes\n",
            "for q=18 time is 1.2842752929665342 minutes\n",
            "for q=24 time is 1.5180003259166066 minutes\n",
            "for q=30 time is 1.8081966488995629 minutes\n"
          ]
        }
      ],
      "source": [
        "#  ubm for diagonal covariance\n",
        "for q in num_components:\n",
        "    start = time.perf_counter()\n",
        "    ubm_d = GaussianMixture(n_components=q,\n",
        "                      covariance_type='diag',random_state=42,init_params='k-means++')\n",
        "\n",
        "    ubm_d.fit(combined_train_df)\n",
        "    ubms_of_diagonal_cov.append(ubm_d)\n",
        "    end = time.perf_counter()\n",
        "    print(f'for q={q} time is {(end-start)/60} minutes')\n"
      ]
    },
    {
      "cell_type": "code",
      "execution_count": null,
      "id": "228da024",
      "metadata": {
        "id": "228da024"
      },
      "outputs": [],
      "source": [
        "additional_components_diag = [42, 64, 72]"
      ]
    },
    {
      "cell_type": "code",
      "execution_count": null,
      "id": "95e5c0a6",
      "metadata": {
        "id": "95e5c0a6",
        "outputId": "1c918906-66f3-4aa7-b0ad-f095e79afaaf"
      },
      "outputs": [
        {
          "name": "stdout",
          "output_type": "stream",
          "text": [
            "for q=42 time is 6.59780860083362 minutes\n",
            "for q=64 time is 7.087136272950253 minutes\n",
            "for q=72 time is 6.356273521333545 minutes\n"
          ]
        }
      ],
      "source": [
        "#  ubm for diagonal covariance\n",
        "for q in additional_components_diag:\n",
        "    start = time.perf_counter()\n",
        "    ubm_d = GaussianMixture(n_components=q,\n",
        "                      covariance_type='diag',random_state=0,init_params='k-means++')\n",
        "\n",
        "    ubm_d.fit(combined_train_df)\n",
        "    ubms_of_diagonal_cov.append(ubm_d)\n",
        "    end = time.perf_counter()\n",
        "    print(f'for q={q} time is {(end-start)/60} minutes')\n"
      ]
    },
    {
      "cell_type": "code",
      "execution_count": null,
      "id": "a1174657",
      "metadata": {
        "id": "a1174657"
      },
      "outputs": [],
      "source": [
        "# ubm for full covariance\n",
        "for q in num_components:\n",
        "    start = time.perf_counter()\n",
        "    ubm_f = GaussianMixture(n_components=q,\n",
        "                      covariance_type='full',random_state=42,init_params='k-means++')\n",
        "\n",
        "    ubm_f.fit(combined_train_df)\n",
        "    ubms_of_full_cov.append(ubm_f)\n",
        "    end = time.perf_counter()\n",
        "    print(f'for q={q} time is {(end-start)/60} minutes')\n"
      ]
    },
    {
      "cell_type": "code",
      "execution_count": null,
      "id": "bdf77e66",
      "metadata": {
        "id": "bdf77e66"
      },
      "outputs": [],
      "source": [
        "num_cmp_full = [18,32,42]"
      ]
    },
    {
      "cell_type": "code",
      "execution_count": null,
      "id": "c5b7abba",
      "metadata": {
        "id": "c5b7abba",
        "outputId": "7797e2e7-fe42-4a52-8106-e6afbae9f781"
      },
      "outputs": [
        {
          "name": "stdout",
          "output_type": "stream",
          "text": [
            "for q=18 time is 27.963596511466797 minutes\n",
            "for q=32 time is 81.45025378805003 minutes\n"
          ]
        }
      ],
      "source": [
        "\n",
        "# ubm for full covariance\n",
        "for q in num_cmp_full:\n",
        "    start = time.perf_counter()\n",
        "    ubm_f = GaussianMixture(n_components=q,\n",
        "                      covariance_type='full',random_state=0,init_params='k-means++')\n",
        "\n",
        "    ubm_f.fit(combined_train_df)\n",
        "    ubms_of_full_cov.append(ubm_f)\n",
        "    end = time.perf_counter()\n",
        "    print(f'for q={q} time is {(end-start)/60} minutes')\n"
      ]
    },
    {
      "cell_type": "code",
      "execution_count": null,
      "id": "df7a36c8",
      "metadata": {
        "id": "df7a36c8"
      },
      "outputs": [],
      "source": []
    },
    {
      "cell_type": "code",
      "execution_count": null,
      "id": "ed7f14e9",
      "metadata": {
        "id": "ed7f14e9",
        "outputId": "d8b0f87f-9e8f-4e48-d925-45f8b3590b60"
      },
      "outputs": [
        {
          "name": "stdout",
          "output_type": "stream",
          "text": [
            "[4, 12, 18, 24, 30]\n",
            "[GaussianMixture(covariance_type='diag', init_params='k-means++', n_components=4,\n",
            "                random_state=42), GaussianMixture(covariance_type='diag', init_params='k-means++',\n",
            "                n_components=12, random_state=42), GaussianMixture(covariance_type='diag', init_params='k-means++',\n",
            "                n_components=18, random_state=42), GaussianMixture(covariance_type='diag', init_params='k-means++',\n",
            "                n_components=24, random_state=42), GaussianMixture(covariance_type='diag', init_params='k-means++',\n",
            "                n_components=30, random_state=42)]\n",
            "\n",
            "[GaussianMixture(init_params='k-means++', n_components=4, random_state=42), GaussianMixture(init_params='k-means++', n_components=12, random_state=42)]\n",
            "\n",
            "[]\n"
          ]
        }
      ],
      "source": [
        "print(num_components)\n",
        "print(ubms_of_diagonal_cov)\n",
        "print()\n",
        "print(ubms_of_full_cov)\n",
        "print()\n",
        "print(class_specific_gmm_list)"
      ]
    },
    {
      "cell_type": "code",
      "execution_count": null,
      "id": "d15b465a",
      "metadata": {
        "id": "d15b465a"
      },
      "outputs": [],
      "source": [
        "def MAP_adapt(universal_gmm, X, max_iter=100, r=0.7):\n",
        "    ## MAP Adaptation for means\n",
        "    gmm = copy.deepcopy(universal_gmm)\n",
        "    \n",
        "    for i in range(max_iter):\n",
        "        n = np.sum(gmm.predict_proba(X), axis=0).reshape(-1, 1) # shape = (K, 1)\n",
        "        X_tilde = (1 / n) * gmm.predict_proba(X).T.dot(X) # shape = (K, d) --> K = num_component\n",
        "        alpha = (n / (n + r)).reshape(-1, 1) # shape = (K, 1)\n",
        "        gmm.means_ = alpha * X_tilde + (1 - alpha) * gmm.means_\n",
        "    \n",
        "    return gmm"
      ]
    },
    {
      "cell_type": "code",
      "execution_count": null,
      "id": "5990e905",
      "metadata": {
        "id": "5990e905"
      },
      "outputs": [],
      "source": [
        "# universal background model (UBM)\n",
        "# r = 0.7 # relevance factor\n",
        "# training data for each class is in train_df_list, => we'll call MAP_adapt function for each language i.e. each df\n",
        "#Only the means are to be adapted, and other parameters (Σ_k , π_k ) are used as such from the UBM.\n",
        "\n",
        "def ubm(universal_gmm, cov_type, num_compnt):\n",
        "    class_specific_gmm = []\n",
        "    for i in range(len(train_df_list)):\n",
        "        lang_i_gmm = MAP_adapt(universal_gmm,train_df_list[i].values,100,0.7)\n",
        "        class_specific_gmm.append(lang_i_gmm)\n",
        "        \n",
        "    class_specific_gmm_list.append(class_specific_gmm)\n",
        "    return class_specific_gmm\n",
        "    "
      ]
    },
    {
      "cell_type": "code",
      "execution_count": null,
      "id": "758926a1",
      "metadata": {
        "id": "758926a1",
        "outputId": "49442951-0d37-4406-daa6-a07f0f340f4e"
      },
      "outputs": [
        {
          "name": "stdout",
          "output_type": "stream",
          "text": [
            "Model with 4 completed in 2.3468886957668778 min\n",
            "Model with 12 completed in 4.555005852700075 min\n",
            "Model with 18 completed in 6.506801720916701 min\n",
            "Model with 24 completed in 7.491043742916857 min\n",
            "Model with 30 completed in 8.18226820785009 min\n"
          ]
        }
      ],
      "source": [
        "# evaluating the model for diagonal cov\n",
        "for i in range(len(num_components)):\n",
        "    start = time.perf_counter()\n",
        "    specific_gmm = ubm(ubms_of_diagonal_cov[i],'diag',num_components[i])\n",
        "    class_specific_gmm_list_diag_cov.append(specific_gmm)\n",
        "    end = time.perf_counter()\n",
        "    print(f'Model with {num_components[i]} completed in {(end-start)/60} min')"
      ]
    },
    {
      "cell_type": "code",
      "execution_count": null,
      "id": "bbec3390",
      "metadata": {
        "id": "bbec3390"
      },
      "outputs": [],
      "source": []
    },
    {
      "cell_type": "code",
      "execution_count": null,
      "id": "de16913f",
      "metadata": {
        "id": "de16913f"
      },
      "outputs": [],
      "source": []
    },
    {
      "cell_type": "code",
      "execution_count": null,
      "id": "7a988503",
      "metadata": {
        "id": "7a988503",
        "outputId": "73921517-d8bc-4982-a4ad-3fcce9700790"
      },
      "outputs": [
        {
          "name": "stdout",
          "output_type": "stream",
          "text": [
            "Model with components = 4 completed in 10.563309282783303 min\n",
            "Model with components = 12 completed in 27.84027793686643 min\n"
          ]
        }
      ],
      "source": [
        "# evaluating the model for full cov\n",
        "for i in range(2):\n",
        "    start = time.perf_counter()\n",
        "    specific_gmm = ubm(ubms_of_full_cov[i],'full',num_components[i])\n",
        "    class_specific_gmm_list_full_cov.append(specific_gmm)\n",
        "    end = time.perf_counter()\n",
        "    print(f'Model with components = {num_components[i]} completed in {(end-start)/60} min')"
      ]
    },
    {
      "cell_type": "code",
      "execution_count": null,
      "id": "1899486a",
      "metadata": {
        "id": "1899486a"
      },
      "outputs": [],
      "source": []
    },
    {
      "cell_type": "code",
      "execution_count": null,
      "id": "d8fe7128",
      "metadata": {
        "id": "d8fe7128"
      },
      "outputs": [],
      "source": [
        "# function to make prediction based on the ubm-gmm model we have made earlier\n",
        "\n",
        "def prediction(test_df_list, class_specific_gmm):\n",
        "    # a list to store the true labels of each class\n",
        "    y_test = [] # true labels\n",
        "    for i in range(len(test_df_list)):\n",
        "        this_label = [i for j in range(len(test_df_list[i]))]\n",
        "        y_test.append(this_label)\n",
        "    log_likelihoods = []\n",
        "    for i in range(len(test_df_list)):\n",
        "        ## weightage log likelihood using gmm.score_samples(x)\n",
        "        log_lists = [gmm.score_samples(test_df_list[i].values) for gmm in class_specific_gmm]\n",
        "        log_likelihoods.append(log_lists)\n",
        "    \n",
        "    ## Now predicting output based on build model\n",
        "    y_pred = [] #predicted labels based on our model\n",
        "    for x in range(len(test_df_list)):\n",
        "        this_pred = []\n",
        "        for i in range(len(test_df_list[x])):\n",
        "            # we need to find argmax such that log probability is maximum\n",
        "            index_of_log_max = 0\n",
        "            for j in range(len(log_likelihoods[x])):\n",
        "                if(log_likelihoods[x][j][i] + log_priors[j] > log_likelihoods[x][index_of_log_max][i] + log_priors[index_of_log_max]):\n",
        "                    index_of_log_max = j\n",
        "            this_pred.append(index_of_log_max)\n",
        "        y_pred.append(this_pred)\n",
        "    \n",
        "    ## calculating accuracy of each language\n",
        "    accuracy_list = [100*accuracy_score(y_test[i], y_pred[i]) for i in range(len(y_test))]\n",
        "    print(\"Accuracy for each language is: \\n\")\n",
        "    for i in range(len(accuracy_list)):\n",
        "        print(f'{languages[i]} : {accuracy_list[i] :.3f}%')\n",
        "    ## overall accuracy\n",
        "    correct_pred = 0\n",
        "    total_test = 0\n",
        "    for x in range(len(test_df_list)):\n",
        "        total_test += len(test_df_list[x])\n",
        "        for j in range(len(test_df_list[x])):\n",
        "            if y_test[x][j] == y_pred[x][j]:\n",
        "                correct_pred += 1\n",
        "                \n",
        "    overall_accuracy = correct_pred/total_test\n",
        "    print(f'\\nOverall Accuracy : { 100*overall_accuracy :.3f}')\n",
        "    return overall_accuracy\n",
        "            \n",
        "        \n"
      ]
    },
    {
      "cell_type": "markdown",
      "id": "39f41f22",
      "metadata": {
        "id": "39f41f22"
      },
      "source": [
        "## Prediction using UBM-GMM Covariance Matrix"
      ]
    },
    {
      "cell_type": "code",
      "execution_count": null,
      "id": "35a76cb0",
      "metadata": {
        "id": "35a76cb0",
        "outputId": "a3af4fa0-fb9e-45cd-e2f4-a11be0e411c3"
      },
      "outputs": [
        {
          "name": "stdout",
          "output_type": "stream",
          "text": [
            "Evaluating Model accuracy with Pb_test_df for q =  4\n",
            "Accuracy for each language is: \n",
            "\n",
            "asm : 23.627%\n",
            "tam : 33.288%\n",
            "odi : 39.309%\n",
            "tel : 15.271%\n",
            "hin : 12.898%\n",
            "mar : 34.709%\n",
            "ben : 50.090%\n",
            "mal : 25.123%\n",
            "guj : 47.657%\n",
            "eng : 30.781%\n",
            "kan : 39.277%\n",
            "pun : 32.616%\n",
            "\n",
            "Overall Accuracy : 32.103\n",
            "\n",
            "\n",
            "Evaluating Model accuracy with Pb_test_df for q =  12\n",
            "Accuracy for each language is: \n",
            "\n",
            "asm : 25.238%\n",
            "tam : 40.008%\n",
            "odi : 38.818%\n",
            "tel : 20.679%\n",
            "hin : 19.622%\n",
            "mar : 31.683%\n",
            "ben : 51.860%\n",
            "mal : 27.021%\n",
            "guj : 45.533%\n",
            "eng : 31.770%\n",
            "kan : 37.842%\n",
            "pun : 34.574%\n",
            "\n",
            "Overall Accuracy : 33.845\n",
            "\n",
            "\n",
            "Evaluating Model accuracy with Pb_test_df for q =  18\n",
            "Accuracy for each language is: \n",
            "\n",
            "asm : 28.702%\n",
            "tam : 42.437%\n",
            "odi : 41.740%\n",
            "tel : 21.790%\n",
            "hin : 21.824%\n",
            "mar : 31.778%\n",
            "ben : 52.431%\n",
            "mal : 28.766%\n",
            "guj : 45.529%\n",
            "eng : 31.095%\n",
            "kan : 38.029%\n",
            "pun : 34.427%\n",
            "\n",
            "Overall Accuracy : 34.990\n",
            "\n",
            "\n",
            "Evaluating Model accuracy with Pb_test_df for q =  24\n",
            "Accuracy for each language is: \n",
            "\n",
            "asm : 28.007%\n",
            "tam : 41.743%\n",
            "odi : 40.939%\n",
            "tel : 21.921%\n",
            "hin : 23.044%\n",
            "mar : 31.545%\n",
            "ben : 51.991%\n",
            "mal : 30.664%\n",
            "guj : 45.581%\n",
            "eng : 30.947%\n",
            "kan : 39.712%\n",
            "pun : 35.068%\n",
            "\n",
            "Overall Accuracy : 35.203\n",
            "\n",
            "\n",
            "Evaluating Model accuracy with Pb_test_df for q =  30\n",
            "Accuracy for each language is: \n",
            "\n",
            "asm : 28.920%\n",
            "tam : 43.446%\n",
            "odi : 41.466%\n",
            "tel : 23.664%\n",
            "hin : 23.858%\n",
            "mar : 32.183%\n",
            "ben : 52.902%\n",
            "mal : 31.780%\n",
            "guj : 45.340%\n",
            "eng : 31.038%\n",
            "kan : 39.936%\n",
            "pun : 36.242%\n",
            "\n",
            "Overall Accuracy : 36.011\n",
            "\n",
            "\n"
          ]
        }
      ],
      "source": [
        "for i in range(5):\n",
        "    print(\"Evaluating Model accuracy with Pb_test_df for q = \", num_components[i])\n",
        "    prediction(pb_test_df_list,class_specific_gmm_list_diag_cov[i])\n",
        "    print(\"\\n\")"
      ]
    },
    {
      "cell_type": "code",
      "execution_count": null,
      "id": "b20e78c5",
      "metadata": {
        "id": "b20e78c5"
      },
      "outputs": [],
      "source": []
    },
    {
      "cell_type": "code",
      "execution_count": null,
      "id": "91a4935b",
      "metadata": {
        "id": "91a4935b",
        "colab": {
          "base_uri": "https://localhost:8080/"
        },
        "outputId": "c756e94a-ba95-48bb-c946-7513a274bfdd"
      },
      "outputs": [
        {
          "output_type": "stream",
          "name": "stdout",
          "text": [
            "Evaluating Model accuracy with Pb_test_df for q =  4\n",
            "Accuracy for each language is: \n",
            "\n",
            "asm : 23.627%\n",
            "tam : 33.288%\n",
            "odi : 39.309%\n",
            "tel : 15.271%\n",
            "hin : 12.898%\n",
            "mar : 34.709%\n",
            "ben : 50.090%\n",
            "mal : 25.123%\n",
            "guj : 47.657%\n",
            "eng : 30.781%\n",
            "kan : 39.277%\n",
            "pun : 32.616%\n",
            "\n",
            "Overall Accuracy : 32.103\n",
            "\n",
            "\n",
            "Evaluating Model accuracy with Pb_test_df for q =  12\n",
            "Accuracy for each language is: \n",
            "\n",
            "asm : 25.238%\n",
            "tam : 40.008%\n",
            "odi : 38.818%\n",
            "tel : 20.679%\n",
            "hin : 19.622%\n",
            "mar : 31.683%\n",
            "ben : 51.860%\n",
            "mal : 27.021%\n",
            "guj : 45.533%\n",
            "eng : 31.770%\n",
            "kan : 37.842%\n",
            "pun : 34.574%\n",
            "\n",
            "Overall Accuracy : 33.845\n",
            "\n",
            "\n",
            "Evaluating Model accuracy with Pb_test_df for q =  18\n",
            "Accuracy for each language is: \n",
            "\n",
            "asm : 28.702%\n",
            "tam : 42.437%\n",
            "odi : 41.740%\n",
            "tel : 21.790%\n",
            "hin : 21.824%\n",
            "mar : 31.778%\n",
            "ben : 52.431%\n",
            "mal : 28.766%\n",
            "guj : 45.529%\n",
            "eng : 31.095%\n",
            "kan : 38.029%\n",
            "pun : 34.427%\n",
            "\n",
            "Overall Accuracy : 34.990\n",
            "\n",
            "\n",
            "Evaluating Model accuracy with Pb_test_df for q =  24\n",
            "Accuracy for each language is: \n",
            "\n",
            "asm : 28.007%\n",
            "tam : 41.743%\n",
            "odi : 40.939%\n",
            "tel : 21.921%\n",
            "hin : 23.044%\n",
            "mar : 31.545%\n",
            "ben : 51.991%\n",
            "mal : 30.664%\n",
            "guj : 45.581%\n",
            "eng : 30.947%\n",
            "kan : 39.712%\n",
            "pun : 35.068%\n",
            "\n",
            "Overall Accuracy : 35.203\n",
            "\n",
            "\n",
            "Evaluating Model accuracy with Pb_test_df for q =  30\n",
            "Accuracy for each language is: \n",
            "\n",
            "asm : 28.920%\n",
            "tam : 43.446%\n",
            "odi : 41.466%\n",
            "tel : 23.664%\n",
            "hin : 23.858%\n",
            "mar : 32.183%\n",
            "ben : 52.902%\n",
            "mal : 31.780%\n",
            "guj : 45.340%\n",
            "eng : 31.038%\n",
            "kan : 39.936%\n",
            "pun : 36.242%\n",
            "\n",
            "Overall Accuracy : 36.011\n",
            "\n"
          ]
        }
      ],
      "source": [
        "## prediction accuracy using dia\n",
        "acc_diag_pb = []\n",
        "for i in range(len(n_components_for_diag_cov)):\n",
        "    print(\"Evaluating Model accuracy with Pb_test_df for q = \", n_components_for_diag_cov[i])\n",
        "    acc_diag_pb.append(prediction(pb_test_df_list,class_specific_gmm_list_diag_cov[i]))\n",
        "    print(\"\\n\")"
      ]
    },
    {
      "cell_type": "code",
      "execution_count": null,
      "id": "1456f147",
      "metadata": {
        "id": "1456f147",
        "outputId": "b461c382-74a8-415a-e643-033e87f85aaa"
      },
      "outputs": [
        {
          "name": "stdout",
          "output_type": "stream",
          "text": [
            "Evaluating Model accuracy with Pb_test_df for q =  4\n",
            "Accuracy for each language is: \n",
            "\n",
            "asm : 34.244%\n",
            "tam : 46.410%\n",
            "odi : 45.276%\n",
            "tel : 18.425%\n",
            "hin : 19.935%\n",
            "mar : 49.757%\n",
            "ben : 64.573%\n",
            "mal : 36.760%\n",
            "guj : 60.356%\n",
            "eng : 44.146%\n",
            "kan : 44.631%\n",
            "pun : 40.594%\n",
            "\n",
            "Overall Accuracy : 41.994\n",
            "\n",
            "\n",
            "Evaluating Model accuracy with Pb_test_df for q =  12\n",
            "Accuracy for each language is: \n",
            "\n",
            "asm : 37.253%\n",
            "tam : 49.440%\n",
            "odi : 47.212%\n",
            "tel : 26.306%\n",
            "hin : 29.026%\n",
            "mar : 51.030%\n",
            "ben : 66.026%\n",
            "mal : 40.536%\n",
            "guj : 59.217%\n",
            "eng : 44.225%\n",
            "kan : 47.266%\n",
            "pun : 44.990%\n",
            "\n",
            "Overall Accuracy : 45.161\n",
            "\n",
            "\n"
          ]
        }
      ],
      "source": [
        "### prediction accuracy using full covariance matrix\n",
        "for i in range(2):\n",
        "    print(\"Evaluating Model accuracy with Pb_test_df for q = \", num_components[i])\n",
        "    prediction(pb_test_df_list,class_specific_gmm_list_full_cov[i])\n",
        "    print(\"\\n\")"
      ]
    },
    {
      "cell_type": "code",
      "execution_count": null,
      "id": "5f2ee91a",
      "metadata": {
        "id": "5f2ee91a"
      },
      "outputs": [],
      "source": []
    },
    {
      "cell_type": "code",
      "execution_count": null,
      "id": "084bbbfa",
      "metadata": {
        "id": "084bbbfa"
      },
      "outputs": [],
      "source": [
        "def ubm16(universal_gmm, cov_type, num_compnt):\n",
        "    class_specific_gmm = []\n",
        "    for i in range(len(train_df_list)):\n",
        "        lang_i_gmm = MAP_adapt(universal_gmm,train_df_list[i].values,200,0.7)\n",
        "        class_specific_gmm.append(lang_i_gmm)\n",
        "        \n",
        "    class_specific_gmm_list.append(class_specific_gmm)\n",
        "    return class_specific_gmm"
      ]
    },
    {
      "cell_type": "code",
      "execution_count": null,
      "id": "12002ce1",
      "metadata": {
        "id": "12002ce1"
      },
      "outputs": [],
      "source": [
        "# for q=4 and r=16\n",
        "# lets build a model\n",
        "gmm_list_r_16 = ubm16(ubms_of_diagonal_cov[0],'diag',num_components[0])"
      ]
    },
    {
      "cell_type": "code",
      "execution_count": null,
      "id": "2f3381f3",
      "metadata": {
        "id": "2f3381f3",
        "outputId": "6315b061-d78f-479d-d544-3069b432bedd"
      },
      "outputs": [
        {
          "name": "stdout",
          "output_type": "stream",
          "text": [
            "Evaluating Model accuracy with Pb_test_df for q = 4 and r=16 diagonal cov\n",
            "Accuracy for each language is: \n",
            "\n",
            "asm : 15.898%\n",
            "tam : 4.992%\n",
            "odi : 14.218%\n",
            "tel : 7.807%\n",
            "hin : 0.601%\n",
            "mar : 7.312%\n",
            "ben : 14.979%\n",
            "mal : 8.307%\n",
            "guj : 6.120%\n",
            "eng : 10.539%\n",
            "kan : 8.460%\n",
            "pun : 2.261%\n",
            "\n",
            "Overall Accuracy : 8.429\n",
            "\n",
            "\n"
          ]
        }
      ],
      "source": [
        "print(\"Evaluating Model accuracy with Pb_test_df for q = 4 and r=16 diagonal cov\")\n",
        "prediction(yt_test_df_list,gmm_list_r_16)\n",
        "print(\"\\n\")"
      ]
    },
    {
      "cell_type": "code",
      "execution_count": null,
      "id": "ff931639",
      "metadata": {
        "id": "ff931639"
      },
      "outputs": [],
      "source": [
        "d_com = [2,3,4,5,7,10,12,17,25,32,42,64]"
      ]
    },
    {
      "cell_type": "code",
      "execution_count": null,
      "id": "58db287d",
      "metadata": {
        "id": "58db287d",
        "colab": {
          "base_uri": "https://localhost:8080/",
          "height": 295
        },
        "outputId": "49eaa19c-91f4-45ab-a39e-8dae643ca03f"
      },
      "outputs": [
        {
          "output_type": "display_data",
          "data": {
            "text/plain": [
              "<Figure size 432x288 with 1 Axes>"
            ],
            "image/png": "[encoded data removed]"
          },
          "metadata": {
            "needs_background": "light"
          }
        }
      ],
      "source": [
        "plt.plot(d_com,prediction_accuracy_pb_test,marker='o')\n",
        "plt.ylabel('Accuracy')\n",
        "plt.title('Diagonal Covariance for Pb_test (system-1)')\n",
        "plt.xlabel('No. of Components')\n",
        "plt.show()"
      ]
    },
    {
      "cell_type": "code",
      "source": [
        "d_comf = [2,3,4,5,7,10,12,17,25,32,42]"
      ],
      "metadata": {
        "id": "bCkEBcnCfS0B"
      },
      "id": "bCkEBcnCfS0B",
      "execution_count": null,
      "outputs": []
    },
    {
      "cell_type": "code",
      "source": [
        "plt.plot(d_comf,prediction_accuracy_pb_test_f,marker='o',label='Full Covariance')\n",
        "plt.plot(d_com,prediction_accuracy_pb_test,marker='o',label='Diagonal Covariance')\n",
        "plt.ylabel('Accuracy')\n",
        "plt.title('Comaparison (system-1)')\n",
        "plt.xlabel('No. of Components')\n",
        "plt.legend()\n",
        "plt.show()"
      ],
      "metadata": {
        "colab": {
          "base_uri": "https://localhost:8080/",
          "height": 295
        },
        "id": "6x7PZJ57fgu4",
        "outputId": "762e62ad-8b76-4a35-f5cf-52f8d8d94877"
      },
      "id": "6x7PZJ57fgu4",
      "execution_count": null,
      "outputs": [
        {
          "output_type": "display_data",
          "data": {
            "text/plain": [
              "<Figure size 432x288 with 1 Axes>"
            ],
            "image/png": "[encoded data removed]"
          },
          "metadata": {
            "needs_background": "light"
          }
        }
      ]
    },
    {
      "cell_type": "code",
      "source": [
        "num_ds1 = [2, 3, 4, 5, 7, 10, 12, 17]\n",
        "num_ds2 = [2, 5, 7, 10, 17]"
      ],
      "metadata": {
        "id": "jYIwEGVMfnBT"
      },
      "id": "jYIwEGVMfnBT",
      "execution_count": null,
      "outputs": []
    },
    {
      "cell_type": "code",
      "source": [
        "yt_d = np.array([9.055647180990777,\n",
        "8.881777009869369,\n",
        "8.728631639571717,\n",
        "8.729940574360585,\n",
        "8.911009886820771,\n",
        "8.856689093082716,\n",
        "8.894866357758056,\n",
        "8.832910111084932])\n",
        "\n",
        "yt_full = np.array([8.447646971561209,\n",
        "8.27050446346763,\n",
        "8.229054861820117,\n",
        "8.309336195537405,\n",
        "8.401179786556368])"
      ],
      "metadata": {
        "id": "eBTIiexnf_zH"
      },
      "id": "eBTIiexnf_zH",
      "execution_count": null,
      "outputs": []
    },
    {
      "cell_type": "code",
      "source": [
        "# plt.plot(q_val_diag,np.array(acc_diag_yt)*100,marker='o',label='YT_Test')\n",
        "plt.plot(num_ds1,yt_d,marker='o',label='Yt_Test')\n",
        "plt.plot(d_com,prediction_accuracy_pb_test,marker='o',label='PB_Test')\n",
        "# plt.plot(q_val,np.array(acc_yt_f)*100,marker='o',label='PB_Test')\n",
        "plt.ylabel('Accuracy (%)')\n",
        "plt.title('Comaparison of Prediction for diagonal covariance\\n (system-1)')\n",
        "plt.xlabel('No. of Components')\n",
        "plt.grid()\n",
        "plt.legend()\n",
        "plt.show()"
      ],
      "metadata": {
        "colab": {
          "base_uri": "https://localhost:8080/",
          "height": 310
        },
        "id": "rgEzMdiZfvXP",
        "outputId": "89edb8bf-ba00-4f11-e9cf-e0936a96100d"
      },
      "id": "rgEzMdiZfvXP",
      "execution_count": null,
      "outputs": [
        {
          "output_type": "display_data",
          "data": {
            "text/plain": [
              "<Figure size 432x288 with 1 Axes>"
            ],
            "image/png": "[encoded data removed]"
          },
          "metadata": {
            "needs_background": "light"
          }
        }
      ]
    },
    {
      "cell_type": "code",
      "source": [
        "plt.plot(num_ds1,yt_d,marker='o',label='Diagonal Covariance')\n",
        "plt.plot(num_ds2,yt_full,marker='o',label='Full Covariance')\n",
        "plt.ylabel('Accuracy')\n",
        "plt.title('Comaparison of Prediction on Yt_Test\\n (system-1)')\n",
        "plt.xlabel('No. of Components')\n",
        "plt.grid()\n",
        "plt.legend()\n",
        "plt.show()"
      ],
      "metadata": {
        "colab": {
          "base_uri": "https://localhost:8080/",
          "height": 310
        },
        "id": "Z-28f8rbfvZ9",
        "outputId": "9e5c2d8b-d12b-412e-fd85-67b1eab42ab7"
      },
      "id": "Z-28f8rbfvZ9",
      "execution_count": null,
      "outputs": [
        {
          "output_type": "display_data",
          "data": {
            "text/plain": [
              "<Figure size 432x288 with 1 Axes>"
            ],
            "image/png": "[encoded data removed]"
          },
          "metadata": {
            "needs_background": "light"
          }
        }
      ]
    },
    {
      "cell_type": "code",
      "source": [
        "q_val_diag = [4,12,18,24,30,42,64]"
      ],
      "metadata": {
        "id": "VShHif_igRqX"
      },
      "id": "VShHif_igRqX",
      "execution_count": null,
      "outputs": []
    },
    {
      "cell_type": "code",
      "source": [
        "## prediction accuracy using dia\n",
        "acc_diag_yt = []\n",
        "for i in range(len(n_components_for_diag_cov)):\n",
        "    print(\"Evaluating Model accuracy with Pb_test_df for q = \", n_components_for_diag_cov[i])\n",
        "    acc_diag_yt.append(prediction(yt_test_df_list,class_specific_gmm_list_diag_cov[i]))\n",
        "    print(\"\\n\")"
      ],
      "metadata": {
        "colab": {
          "base_uri": "https://localhost:8080/"
        },
        "id": "hK_8Jq9rgXvk",
        "outputId": "2b312794-cd8e-4170-ed9f-64faa6e3e5d1"
      },
      "id": "hK_8Jq9rgXvk",
      "execution_count": null,
      "outputs": [
        {
          "output_type": "stream",
          "name": "stdout",
          "text": [
            "Evaluating Model accuracy with Pb_test_df for q =  4\n",
            "Accuracy for each language is: \n",
            "\n",
            "asm : 15.898%\n",
            "tam : 4.992%\n",
            "odi : 14.218%\n",
            "tel : 7.807%\n",
            "hin : 0.601%\n",
            "mar : 7.312%\n",
            "ben : 14.979%\n",
            "mal : 8.310%\n",
            "guj : 6.120%\n",
            "eng : 10.537%\n",
            "kan : 8.460%\n",
            "pun : 2.261%\n",
            "\n",
            "Overall Accuracy : 8.429\n",
            "\n",
            "\n",
            "Evaluating Model accuracy with Pb_test_df for q =  12\n",
            "Accuracy for each language is: \n",
            "\n",
            "asm : 16.997%\n",
            "tam : 7.623%\n",
            "odi : 14.119%\n",
            "tel : 6.773%\n",
            "hin : 3.082%\n",
            "mar : 6.637%\n",
            "ben : 12.890%\n",
            "mal : 6.945%\n",
            "guj : 3.995%\n",
            "eng : 10.955%\n",
            "kan : 7.080%\n",
            "pun : 2.625%\n",
            "\n",
            "Overall Accuracy : 8.283\n",
            "\n",
            "\n",
            "Evaluating Model accuracy with Pb_test_df for q =  18\n",
            "Accuracy for each language is: \n",
            "\n",
            "asm : 18.548%\n",
            "tam : 6.910%\n",
            "odi : 14.236%\n",
            "tel : 8.403%\n",
            "hin : 2.962%\n",
            "mar : 7.119%\n",
            "ben : 11.947%\n",
            "mal : 7.112%\n",
            "guj : 4.387%\n",
            "eng : 11.218%\n",
            "kan : 6.530%\n",
            "pun : 1.963%\n",
            "\n",
            "Overall Accuracy : 8.443\n",
            "\n",
            "\n",
            "Evaluating Model accuracy with Pb_test_df for q =  24\n",
            "Accuracy for each language is: \n",
            "\n",
            "asm : 16.814%\n",
            "tam : 8.465%\n",
            "odi : 13.494%\n",
            "tel : 8.049%\n",
            "hin : 3.031%\n",
            "mar : 7.360%\n",
            "ben : 11.320%\n",
            "mal : 8.872%\n",
            "guj : 4.323%\n",
            "eng : 12.391%\n",
            "kan : 8.343%\n",
            "pun : 2.421%\n",
            "\n",
            "Overall Accuracy : 8.738\n",
            "\n",
            "\n",
            "Evaluating Model accuracy with Pb_test_df for q =  30\n",
            "Accuracy for each language is: \n",
            "\n",
            "asm : 17.493%\n",
            "tam : 7.161%\n",
            "odi : 13.489%\n",
            "tel : 7.814%\n",
            "hin : 2.855%\n",
            "mar : 7.787%\n",
            "ben : 11.704%\n",
            "mal : 8.993%\n",
            "guj : 3.509%\n",
            "eng : 12.463%\n",
            "kan : 7.763%\n",
            "pun : 2.308%\n",
            "\n",
            "Overall Accuracy : 8.613\n",
            "\n",
            "\n",
            "Evaluating Model accuracy with Pb_test_df for q =  42\n",
            "Accuracy for each language is: \n",
            "\n",
            "asm : 15.898%\n",
            "tam : 4.992%\n",
            "odi : 14.218%\n",
            "tel : 7.807%\n",
            "hin : 0.601%\n",
            "mar : 7.312%\n",
            "ben : 14.979%\n",
            "mal : 8.310%\n",
            "guj : 6.120%\n",
            "eng : 10.537%\n",
            "kan : 8.460%\n",
            "pun : 2.261%\n",
            "\n",
            "Overall Accuracy : 8.429\n",
            "\n",
            "\n",
            "Evaluating Model accuracy with Pb_test_df for q =  64\n",
            "Accuracy for each language is: \n",
            "\n",
            "asm : 16.997%\n",
            "tam : 7.623%\n",
            "odi : 14.119%\n",
            "tel : 6.773%\n",
            "hin : 3.082%\n",
            "mar : 6.637%\n",
            "ben : 12.890%\n",
            "mal : 6.945%\n",
            "guj : 3.995%\n",
            "eng : 10.955%\n",
            "kan : 7.080%\n",
            "pun : 2.625%\n",
            "\n",
            "Overall Accuracy : 8.283\n"
          ]
        }
      ]
    },
    {
      "cell_type": "code",
      "source": [
        "q_val_diag = [4,12,18,24,30,42,64]"
      ],
      "metadata": {
        "id": "6LPeA9GMhRMd"
      },
      "id": "6LPeA9GMhRMd",
      "execution_count": null,
      "outputs": []
    },
    {
      "cell_type": "code",
      "source": [
        "num_components = [4, 12, 18, 24, 30]\n"
      ],
      "metadata": {
        "id": "31SpKbArh8B3"
      },
      "id": "31SpKbArh8B3",
      "execution_count": null,
      "outputs": []
    },
    {
      "cell_type": "code",
      "source": [
        "### prediction accuracy using full covariance matrix\n",
        "acc_yt_f = []\n",
        "for i in range(2):\n",
        "    print(\"Evaluating Model accuracy with yt_test_df_list for q = \", num_components[i])\n",
        "    acc_yt_f.append(prediction(yt_test_df_list,class_specific_gmm_list_full_cov[i]))\n",
        "    print(\"\\n\")"
      ],
      "metadata": {
        "colab": {
          "base_uri": "https://localhost:8080/"
        },
        "id": "Q0J9IKV2hT38",
        "outputId": "0dfda8bf-77e7-4a42-e888-dd55934a710d"
      },
      "id": "Q0J9IKV2hT38",
      "execution_count": null,
      "outputs": [
        {
          "output_type": "stream",
          "name": "stdout",
          "text": [
            "Evaluating Model accuracy with yt_test_df_list for q =  4\n",
            "Accuracy for each language is: \n",
            "\n",
            "asm : 19.964%\n",
            "tam : 5.380%\n",
            "odi : 7.816%\n",
            "tel : 6.355%\n",
            "hin : 0.540%\n",
            "mar : 9.173%\n",
            "ben : 15.283%\n",
            "mal : 5.221%\n",
            "guj : 0.834%\n",
            "eng : 8.673%\n",
            "kan : 5.110%\n",
            "pun : 1.159%\n",
            "\n",
            "Overall Accuracy : 7.079\n",
            "\n",
            "\n",
            "Evaluating Model accuracy with yt_test_df_list for q =  12\n",
            "Accuracy for each language is: \n",
            "\n",
            "asm : 18.752%\n",
            "tam : 9.830%\n",
            "odi : 8.788%\n",
            "tel : 4.712%\n",
            "hin : 0.725%\n",
            "mar : 7.172%\n",
            "ben : 12.077%\n",
            "mal : 6.976%\n",
            "guj : 1.348%\n",
            "eng : 9.410%\n",
            "kan : 5.932%\n",
            "pun : 1.021%\n",
            "\n",
            "Overall Accuracy : 7.181\n",
            "\n",
            "\n"
          ]
        }
      ]
    },
    {
      "cell_type": "code",
      "source": [
        "plt.plot(q_val_diag,np.array(acc_diag_yt)*100,marker='o',label='Diagonal Covariance')\n",
        "plt.plot(q_val,np.array(acc_yt_f)*100,marker='o',label='Full Covariance')\n",
        "plt.ylabel('Accuracy')\n",
        "plt.title('Comaparison of Prediction on Yt_Test\\n (system-2)')\n",
        "plt.xlabel('No. of Components')\n",
        "plt.grid()\n",
        "plt.legend()\n",
        "plt.show()"
      ],
      "metadata": {
        "colab": {
          "base_uri": "https://localhost:8080/",
          "height": 310
        },
        "id": "GnU9P0OIgq9k",
        "outputId": "841abd0c-ad42-4440-870e-975803447f63"
      },
      "id": "GnU9P0OIgq9k",
      "execution_count": null,
      "outputs": [
        {
          "output_type": "display_data",
          "data": {
            "text/plain": [
              "<Figure size 432x288 with 1 Axes>"
            ],
            "image/png": "[encoded data removed]"
          },
          "metadata": {
            "needs_background": "light"
          }
        }
      ]
    },
    {
      "cell_type": "code",
      "source": [
        "## prediction accuracy using dia\n",
        "acc_full_pb_ubm = []\n",
        "q_val = [4,12]\n",
        "for i in range(2):\n",
        "    print(\"Evaluating Model accuracy with Pb_test_df for q = \", q_val[i])\n",
        "    acc_full_pb_ubm.append(prediction(pb_test_df_list,class_specific_gmm_list_full_cov[i]))\n",
        "    print(\"\\n\")"
      ],
      "metadata": {
        "colab": {
          "base_uri": "https://localhost:8080/"
        },
        "id": "HfminAy1ioMQ",
        "outputId": "d393f5cb-39b8-4628-d079-991175947609"
      },
      "id": "HfminAy1ioMQ",
      "execution_count": null,
      "outputs": [
        {
          "output_type": "stream",
          "name": "stdout",
          "text": [
            "Evaluating Model accuracy with Pb_test_df for q =  4\n",
            "Accuracy for each language is: \n",
            "\n",
            "asm : 34.244%\n",
            "tam : 46.410%\n",
            "odi : 45.276%\n",
            "tel : 18.425%\n",
            "hin : 19.935%\n",
            "mar : 49.757%\n",
            "ben : 64.573%\n",
            "mal : 36.760%\n",
            "guj : 60.356%\n",
            "eng : 44.146%\n",
            "kan : 44.631%\n",
            "pun : 40.594%\n",
            "\n",
            "Overall Accuracy : 41.994\n",
            "\n",
            "\n",
            "Evaluating Model accuracy with Pb_test_df for q =  12\n",
            "Accuracy for each language is: \n",
            "\n",
            "asm : 37.253%\n",
            "tam : 49.440%\n",
            "odi : 47.212%\n",
            "tel : 26.306%\n",
            "hin : 29.026%\n",
            "mar : 51.030%\n",
            "ben : 66.026%\n",
            "mal : 40.536%\n",
            "guj : 59.217%\n",
            "eng : 44.225%\n",
            "kan : 47.266%\n",
            "pun : 44.990%\n",
            "\n",
            "Overall Accuracy : 45.161\n"
          ]
        }
      ]
    },
    {
      "cell_type": "code",
      "source": [
        "import matplotlib.pyplot as plt\n",
        "num_components = [4, 12, 18, 24, 30]\n",
        "arr = np.array(acc_diag_pb)"
      ],
      "metadata": {
        "id": "1UgD-YYYioPD"
      },
      "id": "1UgD-YYYioPD",
      "execution_count": null,
      "outputs": []
    },
    {
      "cell_type": "code",
      "source": [],
      "metadata": {
        "id": "4KlD4pkTkPfG"
      },
      "id": "4KlD4pkTkPfG",
      "execution_count": null,
      "outputs": []
    },
    {
      "cell_type": "code",
      "source": [],
      "metadata": {
        "id": "1mYHHMy9kPiP"
      },
      "id": "1mYHHMy9kPiP",
      "execution_count": null,
      "outputs": []
    },
    {
      "cell_type": "code",
      "source": [
        "plt.plot(q_val,np.array(acc_full_pb_ubm)*100,marker='o')\n",
        "plt.xlabel('Accuracy')\n",
        "plt.title('Accuracy vs num_components for UBM_GMM(full Covariance)')\n",
        "plt.ylabel('No. of Components')"
      ],
      "metadata": {
        "colab": {
          "base_uri": "https://localhost:8080/",
          "height": 313
        },
        "id": "D5xfNZhehBoe",
        "outputId": "27ccf1e4-2802-448e-b2cd-e3088c8f8144"
      },
      "id": "D5xfNZhehBoe",
      "execution_count": null,
      "outputs": [
        {
          "output_type": "execute_result",
          "data": {
            "text/plain": [
              "Text(0, 0.5, 'No. of Components')"
            ]
          },
          "metadata": {},
          "execution_count": 30
        },
        {
          "output_type": "display_data",
          "data": {
            "text/plain": [
              "<Figure size 432x288 with 1 Axes>"
            ],
            "image/png": "[encoded data removed]"
          },
          "metadata": {
            "needs_background": "light"
          }
        }
      ]
    },
    {
      "cell_type": "code",
      "source": [
        "plt.plot(q_val,np.array(acc_full_pb_ubm)*100,marker='o',label='Full Covariance')\n",
        "plt.plot(num_components,arr*100,marker='o',label='Diagonal Covariance')\n",
        "plt.ylabel('Accuracy')\n",
        "plt.title('Comaparison (system-2)')\n",
        "plt.xlabel('No. of Components')\n",
        "plt.grid()\n",
        "plt.legend()\n",
        "plt.show()"
      ],
      "metadata": {
        "colab": {
          "base_uri": "https://localhost:8080/",
          "height": 295
        },
        "id": "KGyA_v_xiKrH",
        "outputId": "c60a1a40-58ed-436b-c9ed-648c232591b2"
      },
      "id": "KGyA_v_xiKrH",
      "execution_count": null,
      "outputs": [
        {
          "output_type": "display_data",
          "data": {
            "text/plain": [
              "<Figure size 432x288 with 1 Axes>"
            ],
            "image/png": "[encoded data removed]"
          },
          "metadata": {
            "needs_background": "light"
          }
        }
      ]
    },
    {
      "cell_type": "code",
      "source": [
        "plt.plot(d_comf,prediction_accuracy_pb_test_f,marker='o',label='full-sys1')\n",
        "plt.plot(q_val,np.array(acc_full_pb_ubm)*100,marker='o',label='full-sys2')\n",
        "plt.plot(num_components,arr*100,marker='o',label='diag-sys2')\n",
        "plt.plot(d_com,prediction_accuracy_pb_test,marker='o',label='diag-sys1')\n",
        "plt.ylabel('Accuracy (%)')\n",
        "plt.title('Accuracy vs Num_components for pb_test')\n",
        "plt.xlabel('No. of Components')\n",
        "plt.grid()\n",
        "plt.legend()\n",
        "plt.show()"
      ],
      "metadata": {
        "colab": {
          "base_uri": "https://localhost:8080/",
          "height": 295
        },
        "id": "W-HlpA8qiKta",
        "outputId": "37a291b8-7a59-4a55-c465-397c5bae5f53"
      },
      "id": "W-HlpA8qiKta",
      "execution_count": null,
      "outputs": [
        {
          "output_type": "display_data",
          "data": {
            "text/plain": [
              "<Figure size 432x288 with 1 Axes>"
            ],
            "image/png": "[encoded data removed]"
          },
          "metadata": {
            "needs_background": "light"
          }
        }
      ]
    },
    {
      "cell_type": "code",
      "source": [
        "plt.plot(num_ds2,yt_full,marker='o',label='full-sys1')\n",
        "plt.plot(q_val,np.array(acc_yt_f)*100,marker='o',label='full-sys2')\n",
        "plt.plot(num_ds1,yt_d,marker='o',label='diag-sys1')\n",
        "plt.plot(q_val_diag,np.array(acc_diag_yt)*100,marker='o',label='diag-sys2')\n",
        "plt.ylabel('Accuracy (%)')\n",
        "plt.title('Accuracy vs Num_components for yt_test')\n",
        "plt.xlabel('No. of Components')\n",
        "plt.grid()\n",
        "plt.legend()\n",
        "plt.show()"
      ],
      "metadata": {
        "colab": {
          "base_uri": "https://localhost:8080/",
          "height": 295
        },
        "id": "uZDoZEXNiKwg",
        "outputId": "207b5b52-c791-409f-d25e-017e9b360724"
      },
      "id": "uZDoZEXNiKwg",
      "execution_count": null,
      "outputs": [
        {
          "output_type": "display_data",
          "data": {
            "text/plain": [
              "<Figure size 432x288 with 1 Axes>"
            ],
            "image/png": "[encoded data removed]"
          },
          "metadata": {
            "needs_background": "light"
          }
        }
      ]
    },
    {
      "cell_type": "code",
      "source": [
        "plt.plot(num_ds1,yt_d,marker='o')\n",
        "plt.title('Diagonal Covariance for Yt_test')\n",
        "plt.ylabel('Accuracy (%)')\n",
        "# plt.title('Accuracy vs Num_components for pb_test')\n",
        "plt.xlabel('No. of Components')\n",
        "plt.grid()\n",
        "# plt.legend()\n",
        "plt.show()"
      ],
      "metadata": {
        "colab": {
          "base_uri": "https://localhost:8080/",
          "height": 295
        },
        "id": "Zw1G9CsNksN6",
        "outputId": "92fbbfd9-7dce-47e1-85bc-2a0692bfe746"
      },
      "id": "Zw1G9CsNksN6",
      "execution_count": null,
      "outputs": [
        {
          "output_type": "display_data",
          "data": {
            "text/plain": [
              "<Figure size 432x288 with 1 Axes>"
            ],
            "image/png": "[encoded data removed]"
          },
          "metadata": {
            "needs_background": "light"
          }
        }
      ]
    },
    {
      "cell_type": "code",
      "source": [
        "plt.plot(num_ds2,yt_full,marker='o')\n",
        "plt.title('Full Covariance for Yt_test')\n",
        "plt.ylabel('Accuracy (%)')\n",
        "# plt.title('Accuracy vs Num_components for pb_test')\n",
        "plt.xlabel('No. of Components')\n",
        "plt.grid()\n",
        "# plt.legend()\n",
        "plt.show()"
      ],
      "metadata": {
        "colab": {
          "base_uri": "https://localhost:8080/",
          "height": 295
        },
        "id": "OHiD6PkYkwVq",
        "outputId": "7acf470c-9d91-4409-c5e3-89137070541e"
      },
      "id": "OHiD6PkYkwVq",
      "execution_count": null,
      "outputs": [
        {
          "output_type": "display_data",
          "data": {
            "text/plain": [
              "<Figure size 432x288 with 1 Axes>"
            ],
            "image/png": "[encoded data removed]"
          },
          "metadata": {
            "needs_background": "light"
          }
        }
      ]
    },
    {
      "cell_type": "code",
      "source": [],
      "metadata": {
        "id": "TCeOdh3skzR-"
      },
      "id": "TCeOdh3skzR-",
      "execution_count": null,
      "outputs": []
    }
  ],
  "metadata": {
    "kernelspec": {
      "display_name": "Python 3 (ipykernel)",
      "language": "python",
      "name": "python3"
    },
    "language_info": {
      "codemirror_mode": {
        "name": "ipython",
        "version": 3
      },
      "file_extension": ".py",
      "mimetype": "text/x-python",
      "name": "python",
      "nbconvert_exporter": "python",
      "pygments_lexer": "ipython3",
      "version": "3.8.10"
    },
    "colab": {
      "provenance": []
    }
  },
  "nbformat": 4,
  "nbformat_minor": 5
}